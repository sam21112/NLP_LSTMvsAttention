{
  "cells": [
    {
      "cell_type": "markdown",
      "metadata": {
        "id": "Y2-I7PacDTzN"
      },
      "source": [
        "# Improting Libraries & Data Preperation"
      ]
    },
    {
      "cell_type": "markdown",
      "source": [
        "## Importing Libraries"
      ],
      "metadata": {
        "id": "222dug5Zl20K"
      }
    },
    {
      "cell_type": "code",
      "source": [
        "pip install scikeras"
      ],
      "metadata": {
        "colab": {
          "base_uri": "https://localhost:8080/"
        },
        "id": "OcFVhSMFBkuP",
        "outputId": "3cadd468-2095-4ec8-f2af-6099fb624a6e"
      },
      "execution_count": null,
      "outputs": [
        {
          "output_type": "stream",
          "name": "stdout",
          "text": [
            "Looking in indexes: https://pypi.org/simple, https://us-python.pkg.dev/colab-wheels/public/simple/\n",
            "Collecting scikeras\n",
            "  Downloading scikeras-0.10.0-py3-none-any.whl (27 kB)\n",
            "Requirement already satisfied: scikit-learn>=1.0.0 in /usr/local/lib/python3.9/dist-packages (from scikeras) (1.2.2)\n",
            "Requirement already satisfied: packaging>=0.21 in /usr/local/lib/python3.9/dist-packages (from scikeras) (23.1)\n",
            "Requirement already satisfied: threadpoolctl>=2.0.0 in /usr/local/lib/python3.9/dist-packages (from scikit-learn>=1.0.0->scikeras) (3.1.0)\n",
            "Requirement already satisfied: joblib>=1.1.1 in /usr/local/lib/python3.9/dist-packages (from scikit-learn>=1.0.0->scikeras) (1.2.0)\n",
            "Requirement already satisfied: scipy>=1.3.2 in /usr/local/lib/python3.9/dist-packages (from scikit-learn>=1.0.0->scikeras) (1.10.1)\n",
            "Requirement already satisfied: numpy>=1.17.3 in /usr/local/lib/python3.9/dist-packages (from scikit-learn>=1.0.0->scikeras) (1.22.4)\n",
            "Installing collected packages: scikeras\n",
            "Successfully installed scikeras-0.10.0\n"
          ]
        }
      ]
    },
    {
      "cell_type": "code",
      "execution_count": null,
      "metadata": {
        "id": "Os51kTCS9lLn"
      },
      "outputs": [],
      "source": [
        "import pandas as pd\n",
        "import numpy as np\n",
        "from google.colab import drive\n",
        "# drive.mount('/content/drive')\n",
        "import numpy as np\n",
        "import pandas as  pd\n",
        "import tensorflow as tf\n",
        "import pandas as pd\n",
        "import numpy as np\n",
        "import matplotlib.pyplot as plt\n",
        "import seaborn as sns\n",
        "from sklearn.model_selection import train_test_split\n",
        "from sklearn.preprocessing import LabelEncoder\n",
        "from tensorflow.keras.models import Model\n",
        "import tensorflow.keras as k\n",
        "from tensorflow.keras.layers import LSTM, Activation, Dense, Dropout, Input, Embedding,Bidirectional,Concatenate\n",
        "from tensorflow.keras.optimizers import Adamax\n",
        "from tensorflow.keras.preprocessing.text import Tokenizer\n",
        "from tensorflow.keras.preprocessing import sequence\n",
        "from tensorflow.keras.utils import to_categorical\n",
        "from tensorflow.keras.callbacks import EarlyStopping\n",
        "import tensorflow as tf\n",
        "from tensorflow import keras\n",
        "from tensorflow.keras import layers\n",
        "from tensorflow.keras.layers import LSTM, Activation, Dense, Dropout, Input, Embedding\n",
        "from tensorflow.keras.optimizers import Adamax, Adam\n",
        "\n",
        "from sklearn.model_selection import GridSearchCV\n",
        "from tensorflow.keras.models import Sequential\n",
        "from tensorflow.keras.layers import Dense\n",
        "from sklearn.model_selection import ParameterGrid\n",
        "\n",
        "import pickle\n",
        "from keras.preprocessing.text import Tokenizer\n",
        "from tensorflow.keras.models import load_model\n",
        "from keras.layers import TimeDistributed\n",
        "%matplotlib inline\n",
        "%matplotlib inline\n",
        "\n"
      ]
    },
    {
      "cell_type": "markdown",
      "metadata": {
        "id": "xT1-NL3LOxXs"
      },
      "source": [
        "## Data Description"
      ]
    },
    {
      "cell_type": "code",
      "execution_count": null,
      "metadata": {
        "id": "r1-JOcWbDbqt"
      },
      "outputs": [],
      "source": [
        "data=pd.read_csv('/content/drive/MyDrive/NLP/aggregated7c.csv',sep=';')"
      ]
    },
    {
      "cell_type": "code",
      "execution_count": null,
      "metadata": {
        "id": "WxQIetJQDnsu",
        "colab": {
          "base_uri": "https://localhost:8080/",
          "height": 206
        },
        "outputId": "0f948c85-e113-4a1b-cf74-57d96b8584ef"
      },
      "outputs": [
        {
          "output_type": "execute_result",
          "data": {
            "text/plain": [
              "   Polarity                                            cleaned  Length  \\\n",
              "0         1  this sound track was beautiful it paints the s...    75.0   \n",
              "1         1  i am reading a lot of reviews saying that this...    94.0   \n",
              "2         1  this soundtrack is my favorite music of all ti...   129.0   \n",
              "3         1  i truly like this soundtrack and i enjoy video...   115.0   \n",
              "4         1  if you have played the game you know how divin...    79.0   \n",
              "\n",
              "                  source  \n",
              "0  twitter-train_cleaned  \n",
              "1  twitter-train_cleaned  \n",
              "2  twitter-train_cleaned  \n",
              "3  twitter-train_cleaned  \n",
              "4  twitter-train_cleaned  "
            ],
            "text/html": [
              "\n",
              "  <div id=\"df-54d480d0-b2d0-4ce8-9453-4ce86fda4c0c\">\n",
              "    <div class=\"colab-df-container\">\n",
              "      <div>\n",
              "<style scoped>\n",
              "    .dataframe tbody tr th:only-of-type {\n",
              "        vertical-align: middle;\n",
              "    }\n",
              "\n",
              "    .dataframe tbody tr th {\n",
              "        vertical-align: top;\n",
              "    }\n",
              "\n",
              "    .dataframe thead th {\n",
              "        text-align: right;\n",
              "    }\n",
              "</style>\n",
              "<table border=\"1\" class=\"dataframe\">\n",
              "  <thead>\n",
              "    <tr style=\"text-align: right;\">\n",
              "      <th></th>\n",
              "      <th>Polarity</th>\n",
              "      <th>cleaned</th>\n",
              "      <th>Length</th>\n",
              "      <th>source</th>\n",
              "    </tr>\n",
              "  </thead>\n",
              "  <tbody>\n",
              "    <tr>\n",
              "      <th>0</th>\n",
              "      <td>1</td>\n",
              "      <td>this sound track was beautiful it paints the s...</td>\n",
              "      <td>75.0</td>\n",
              "      <td>twitter-train_cleaned</td>\n",
              "    </tr>\n",
              "    <tr>\n",
              "      <th>1</th>\n",
              "      <td>1</td>\n",
              "      <td>i am reading a lot of reviews saying that this...</td>\n",
              "      <td>94.0</td>\n",
              "      <td>twitter-train_cleaned</td>\n",
              "    </tr>\n",
              "    <tr>\n",
              "      <th>2</th>\n",
              "      <td>1</td>\n",
              "      <td>this soundtrack is my favorite music of all ti...</td>\n",
              "      <td>129.0</td>\n",
              "      <td>twitter-train_cleaned</td>\n",
              "    </tr>\n",
              "    <tr>\n",
              "      <th>3</th>\n",
              "      <td>1</td>\n",
              "      <td>i truly like this soundtrack and i enjoy video...</td>\n",
              "      <td>115.0</td>\n",
              "      <td>twitter-train_cleaned</td>\n",
              "    </tr>\n",
              "    <tr>\n",
              "      <th>4</th>\n",
              "      <td>1</td>\n",
              "      <td>if you have played the game you know how divin...</td>\n",
              "      <td>79.0</td>\n",
              "      <td>twitter-train_cleaned</td>\n",
              "    </tr>\n",
              "  </tbody>\n",
              "</table>\n",
              "</div>\n",
              "      <button class=\"colab-df-convert\" onclick=\"convertToInteractive('df-54d480d0-b2d0-4ce8-9453-4ce86fda4c0c')\"\n",
              "              title=\"Convert this dataframe to an interactive table.\"\n",
              "              style=\"display:none;\">\n",
              "        \n",
              "  <svg xmlns=\"http://www.w3.org/2000/svg\" height=\"24px\"viewBox=\"0 0 24 24\"\n",
              "       width=\"24px\">\n",
              "    <path d=\"M0 0h24v24H0V0z\" fill=\"none\"/>\n",
              "    <path d=\"M18.56 5.44l.94 2.06.94-2.06 2.06-.94-2.06-.94-.94-2.06-.94 2.06-2.06.94zm-11 1L8.5 8.5l.94-2.06 2.06-.94-2.06-.94L8.5 2.5l-.94 2.06-2.06.94zm10 10l.94 2.06.94-2.06 2.06-.94-2.06-.94-.94-2.06-.94 2.06-2.06.94z\"/><path d=\"M17.41 7.96l-1.37-1.37c-.4-.4-.92-.59-1.43-.59-.52 0-1.04.2-1.43.59L10.3 9.45l-7.72 7.72c-.78.78-.78 2.05 0 2.83L4 21.41c.39.39.9.59 1.41.59.51 0 1.02-.2 1.41-.59l7.78-7.78 2.81-2.81c.8-.78.8-2.07 0-2.86zM5.41 20L4 18.59l7.72-7.72 1.47 1.35L5.41 20z\"/>\n",
              "  </svg>\n",
              "      </button>\n",
              "      \n",
              "  <style>\n",
              "    .colab-df-container {\n",
              "      display:flex;\n",
              "      flex-wrap:wrap;\n",
              "      gap: 12px;\n",
              "    }\n",
              "\n",
              "    .colab-df-convert {\n",
              "      background-color: #E8F0FE;\n",
              "      border: none;\n",
              "      border-radius: 50%;\n",
              "      cursor: pointer;\n",
              "      display: none;\n",
              "      fill: #1967D2;\n",
              "      height: 32px;\n",
              "      padding: 0 0 0 0;\n",
              "      width: 32px;\n",
              "    }\n",
              "\n",
              "    .colab-df-convert:hover {\n",
              "      background-color: #E2EBFA;\n",
              "      box-shadow: 0px 1px 2px rgba(60, 64, 67, 0.3), 0px 1px 3px 1px rgba(60, 64, 67, 0.15);\n",
              "      fill: #174EA6;\n",
              "    }\n",
              "\n",
              "    [theme=dark] .colab-df-convert {\n",
              "      background-color: #3B4455;\n",
              "      fill: #D2E3FC;\n",
              "    }\n",
              "\n",
              "    [theme=dark] .colab-df-convert:hover {\n",
              "      background-color: #434B5C;\n",
              "      box-shadow: 0px 1px 3px 1px rgba(0, 0, 0, 0.15);\n",
              "      filter: drop-shadow(0px 1px 2px rgba(0, 0, 0, 0.3));\n",
              "      fill: #FFFFFF;\n",
              "    }\n",
              "  </style>\n",
              "\n",
              "      <script>\n",
              "        const buttonEl =\n",
              "          document.querySelector('#df-54d480d0-b2d0-4ce8-9453-4ce86fda4c0c button.colab-df-convert');\n",
              "        buttonEl.style.display =\n",
              "          google.colab.kernel.accessAllowed ? 'block' : 'none';\n",
              "\n",
              "        async function convertToInteractive(key) {\n",
              "          const element = document.querySelector('#df-54d480d0-b2d0-4ce8-9453-4ce86fda4c0c');\n",
              "          const dataTable =\n",
              "            await google.colab.kernel.invokeFunction('convertToInteractive',\n",
              "                                                     [key], {});\n",
              "          if (!dataTable) return;\n",
              "\n",
              "          const docLinkHtml = 'Like what you see? Visit the ' +\n",
              "            '<a target=\"_blank\" href=https://colab.research.google.com/notebooks/data_table.ipynb>data table notebook</a>'\n",
              "            + ' to learn more about interactive tables.';\n",
              "          element.innerHTML = '';\n",
              "          dataTable['output_type'] = 'display_data';\n",
              "          await google.colab.output.renderOutput(dataTable, element);\n",
              "          const docLink = document.createElement('div');\n",
              "          docLink.innerHTML = docLinkHtml;\n",
              "          element.appendChild(docLink);\n",
              "        }\n",
              "      </script>\n",
              "    </div>\n",
              "  </div>\n",
              "  "
            ]
          },
          "metadata": {},
          "execution_count": 5
        }
      ],
      "source": [
        "data.head()"
      ]
    },
    {
      "cell_type": "code",
      "execution_count": null,
      "metadata": {
        "id": "Mq1KtENvO_cK",
        "colab": {
          "base_uri": "https://localhost:8080/"
        },
        "outputId": "f33900d0-1ae2-44de-ef3c-e0ccbdc22ecf"
      },
      "outputs": [
        {
          "output_type": "stream",
          "name": "stdout",
          "text": [
            "Number of Rows: 7334528\n",
            "Number of columns: 4\n"
          ]
        },
        {
          "output_type": "execute_result",
          "data": {
            "text/plain": [
              "(7334528, 4)"
            ]
          },
          "metadata": {},
          "execution_count": 6
        }
      ],
      "source": [
        "data = data.sample(frac=1,random_state=6400).reset_index(drop=True)\n",
        "print(\"Number of Rows:\", data.shape[0])\n",
        "print(\"Number of columns:\", data.shape[1])\n",
        "data.shape"
      ]
    },
    {
      "cell_type": "code",
      "execution_count": null,
      "metadata": {
        "id": "bdulssuJPKv2"
      },
      "outputs": [],
      "source": [
        "data.dropna(axis=0,inplace=True)"
      ]
    },
    {
      "cell_type": "code",
      "source": [
        "data = data.sample(frac=1,random_state=6400).reset_index(drop=True)\n",
        "print(\"Number of Rows after dropping null:\", data.shape[0])\n",
        "print(\"Number of columns after dropping null:\", data.shape[1])\n",
        "data.shape"
      ],
      "metadata": {
        "id": "nXY7uf7dxW_k",
        "colab": {
          "base_uri": "https://localhost:8080/"
        },
        "outputId": "3a685bcc-6098-467e-b0af-dd86d77d8a9e"
      },
      "execution_count": null,
      "outputs": [
        {
          "output_type": "stream",
          "name": "stdout",
          "text": [
            "Number of Rows after dropping null: 7333767\n",
            "Number of columns after dropping null: 4\n"
          ]
        },
        {
          "output_type": "execute_result",
          "data": {
            "text/plain": [
              "(7333767, 4)"
            ]
          },
          "metadata": {},
          "execution_count": 8
        }
      ]
    },
    {
      "cell_type": "code",
      "execution_count": null,
      "metadata": {
        "id": "s6_l8y1SPQzW",
        "colab": {
          "base_uri": "https://localhost:8080/"
        },
        "outputId": "2334bbd1-a7eb-49a8-ed72-d1ed1e5fd768"
      },
      "outputs": [
        {
          "output_type": "execute_result",
          "data": {
            "text/plain": [
              "Polarity    0\n",
              "cleaned     0\n",
              "Length      0\n",
              "source      0\n",
              "dtype: int64"
            ]
          },
          "metadata": {},
          "execution_count": 9
        }
      ],
      "source": [
        "data.isna().sum()"
      ]
    },
    {
      "cell_type": "code",
      "execution_count": null,
      "metadata": {
        "id": "7aXWNlexPTJW",
        "colab": {
          "base_uri": "https://localhost:8080/",
          "height": 300
        },
        "outputId": "51b860a8-162d-4168-9e10-624bdaf45260"
      },
      "outputs": [
        {
          "output_type": "execute_result",
          "data": {
            "text/plain": [
              "           Polarity        Length\n",
              "count  6.953027e+06  6.953027e+06\n",
              "mean   5.784942e-01  4.503879e+01\n",
              "std    4.938003e-01  3.832743e+01\n",
              "min    0.000000e+00  1.000000e+00\n",
              "25%    0.000000e+00  1.500000e+01\n",
              "50%    1.000000e+00  3.100000e+01\n",
              "75%    1.000000e+00  6.900000e+01\n",
              "max    1.000000e+00  1.500000e+02"
            ],
            "text/html": [
              "\n",
              "  <div id=\"df-ee6b3981-3b8f-4c17-9a2f-567ac7fae83d\">\n",
              "    <div class=\"colab-df-container\">\n",
              "      <div>\n",
              "<style scoped>\n",
              "    .dataframe tbody tr th:only-of-type {\n",
              "        vertical-align: middle;\n",
              "    }\n",
              "\n",
              "    .dataframe tbody tr th {\n",
              "        vertical-align: top;\n",
              "    }\n",
              "\n",
              "    .dataframe thead th {\n",
              "        text-align: right;\n",
              "    }\n",
              "</style>\n",
              "<table border=\"1\" class=\"dataframe\">\n",
              "  <thead>\n",
              "    <tr style=\"text-align: right;\">\n",
              "      <th></th>\n",
              "      <th>Polarity</th>\n",
              "      <th>Length</th>\n",
              "    </tr>\n",
              "  </thead>\n",
              "  <tbody>\n",
              "    <tr>\n",
              "      <th>count</th>\n",
              "      <td>6.953027e+06</td>\n",
              "      <td>6.953027e+06</td>\n",
              "    </tr>\n",
              "    <tr>\n",
              "      <th>mean</th>\n",
              "      <td>5.784942e-01</td>\n",
              "      <td>4.503879e+01</td>\n",
              "    </tr>\n",
              "    <tr>\n",
              "      <th>std</th>\n",
              "      <td>4.938003e-01</td>\n",
              "      <td>3.832743e+01</td>\n",
              "    </tr>\n",
              "    <tr>\n",
              "      <th>min</th>\n",
              "      <td>0.000000e+00</td>\n",
              "      <td>1.000000e+00</td>\n",
              "    </tr>\n",
              "    <tr>\n",
              "      <th>25%</th>\n",
              "      <td>0.000000e+00</td>\n",
              "      <td>1.500000e+01</td>\n",
              "    </tr>\n",
              "    <tr>\n",
              "      <th>50%</th>\n",
              "      <td>1.000000e+00</td>\n",
              "      <td>3.100000e+01</td>\n",
              "    </tr>\n",
              "    <tr>\n",
              "      <th>75%</th>\n",
              "      <td>1.000000e+00</td>\n",
              "      <td>6.900000e+01</td>\n",
              "    </tr>\n",
              "    <tr>\n",
              "      <th>max</th>\n",
              "      <td>1.000000e+00</td>\n",
              "      <td>1.500000e+02</td>\n",
              "    </tr>\n",
              "  </tbody>\n",
              "</table>\n",
              "</div>\n",
              "      <button class=\"colab-df-convert\" onclick=\"convertToInteractive('df-ee6b3981-3b8f-4c17-9a2f-567ac7fae83d')\"\n",
              "              title=\"Convert this dataframe to an interactive table.\"\n",
              "              style=\"display:none;\">\n",
              "        \n",
              "  <svg xmlns=\"http://www.w3.org/2000/svg\" height=\"24px\"viewBox=\"0 0 24 24\"\n",
              "       width=\"24px\">\n",
              "    <path d=\"M0 0h24v24H0V0z\" fill=\"none\"/>\n",
              "    <path d=\"M18.56 5.44l.94 2.06.94-2.06 2.06-.94-2.06-.94-.94-2.06-.94 2.06-2.06.94zm-11 1L8.5 8.5l.94-2.06 2.06-.94-2.06-.94L8.5 2.5l-.94 2.06-2.06.94zm10 10l.94 2.06.94-2.06 2.06-.94-2.06-.94-.94-2.06-.94 2.06-2.06.94z\"/><path d=\"M17.41 7.96l-1.37-1.37c-.4-.4-.92-.59-1.43-.59-.52 0-1.04.2-1.43.59L10.3 9.45l-7.72 7.72c-.78.78-.78 2.05 0 2.83L4 21.41c.39.39.9.59 1.41.59.51 0 1.02-.2 1.41-.59l7.78-7.78 2.81-2.81c.8-.78.8-2.07 0-2.86zM5.41 20L4 18.59l7.72-7.72 1.47 1.35L5.41 20z\"/>\n",
              "  </svg>\n",
              "      </button>\n",
              "      \n",
              "  <style>\n",
              "    .colab-df-container {\n",
              "      display:flex;\n",
              "      flex-wrap:wrap;\n",
              "      gap: 12px;\n",
              "    }\n",
              "\n",
              "    .colab-df-convert {\n",
              "      background-color: #E8F0FE;\n",
              "      border: none;\n",
              "      border-radius: 50%;\n",
              "      cursor: pointer;\n",
              "      display: none;\n",
              "      fill: #1967D2;\n",
              "      height: 32px;\n",
              "      padding: 0 0 0 0;\n",
              "      width: 32px;\n",
              "    }\n",
              "\n",
              "    .colab-df-convert:hover {\n",
              "      background-color: #E2EBFA;\n",
              "      box-shadow: 0px 1px 2px rgba(60, 64, 67, 0.3), 0px 1px 3px 1px rgba(60, 64, 67, 0.15);\n",
              "      fill: #174EA6;\n",
              "    }\n",
              "\n",
              "    [theme=dark] .colab-df-convert {\n",
              "      background-color: #3B4455;\n",
              "      fill: #D2E3FC;\n",
              "    }\n",
              "\n",
              "    [theme=dark] .colab-df-convert:hover {\n",
              "      background-color: #434B5C;\n",
              "      box-shadow: 0px 1px 3px 1px rgba(0, 0, 0, 0.15);\n",
              "      filter: drop-shadow(0px 1px 2px rgba(0, 0, 0, 0.3));\n",
              "      fill: #FFFFFF;\n",
              "    }\n",
              "  </style>\n",
              "\n",
              "      <script>\n",
              "        const buttonEl =\n",
              "          document.querySelector('#df-ee6b3981-3b8f-4c17-9a2f-567ac7fae83d button.colab-df-convert');\n",
              "        buttonEl.style.display =\n",
              "          google.colab.kernel.accessAllowed ? 'block' : 'none';\n",
              "\n",
              "        async function convertToInteractive(key) {\n",
              "          const element = document.querySelector('#df-ee6b3981-3b8f-4c17-9a2f-567ac7fae83d');\n",
              "          const dataTable =\n",
              "            await google.colab.kernel.invokeFunction('convertToInteractive',\n",
              "                                                     [key], {});\n",
              "          if (!dataTable) return;\n",
              "\n",
              "          const docLinkHtml = 'Like what you see? Visit the ' +\n",
              "            '<a target=\"_blank\" href=https://colab.research.google.com/notebooks/data_table.ipynb>data table notebook</a>'\n",
              "            + ' to learn more about interactive tables.';\n",
              "          element.innerHTML = '';\n",
              "          dataTable['output_type'] = 'display_data';\n",
              "          await google.colab.output.renderOutput(dataTable, element);\n",
              "          const docLink = document.createElement('div');\n",
              "          docLink.innerHTML = docLinkHtml;\n",
              "          element.appendChild(docLink);\n",
              "        }\n",
              "      </script>\n",
              "    </div>\n",
              "  </div>\n",
              "  "
            ]
          },
          "metadata": {},
          "execution_count": 10
        }
      ],
      "source": [
        "#Selecting only data with less than 150 word length\n",
        "data=data[data['Length']<=150]\n",
        "data.describe()"
      ]
    },
    {
      "cell_type": "code",
      "execution_count": null,
      "metadata": {
        "id": "2mR6np4WgtXI",
        "colab": {
          "base_uri": "https://localhost:8080/",
          "height": 537
        },
        "outputId": "bc4b71c8-d54a-454d-bca2-45a847ea13f8"
      },
      "outputs": [
        {
          "output_type": "display_data",
          "data": {
            "text/plain": [
              "<Figure size 1000x600 with 1 Axes>"
            ],
            "image/png": "[encoded data removed]"
          },
          "metadata": {}
        }
      ],
      "source": [
        "#Plotting number of data points per group\n",
        "from matplotlib import pyplot as plt\n",
        "import numpy as np\n",
        "\n",
        "lengths=data.Length\n",
        "# Creating histogram\n",
        "fig, ax = plt.subplots(figsize =(10, 6))\n",
        "w = 25\n",
        "ax.hist(lengths, edgecolor='black', bins=np.arange(min(lengths), max(lengths) + w, w))\n",
        "plt.xlim(xmin=0, xmax = 150)\n",
        "# Show plot\n",
        "plt.show()"
      ]
    },
    {
      "cell_type": "code",
      "execution_count": null,
      "metadata": {
        "id": "qxCiSLcRqo2K"
      },
      "outputs": [],
      "source": [
        "group10=data[(data['Length']<=20)&(data['Length']>0)&(data['Polarity']==0)].sample(225000,ignore_index=True,random_state=6400)\n",
        "group20=data[(data['Length']<=40)&(data['Length']>20)&(data['Polarity']==0)].sample(225000,ignore_index=True,random_state=6400)\n",
        "group30=data[(data['Length']<=60)&(data['Length']>40)&(data['Polarity']==0)].sample(225000,ignore_index=True,random_state=6400)\n",
        "group40=data[(data['Length']<=80)&(data['Length']>60)&(data['Polarity']==0)].sample(225000,ignore_index=True,random_state=6400)\n",
        "group50=data[(data['Length']<=100)&(data['Length']>80)&(data['Polarity']==0)].sample(225000,ignore_index=True,random_state=6400)\n",
        "group60=data[(data['Length']>100)&(data['Polarity']==0)].sample(225000,ignore_index=True,random_state=6400)\n",
        "\n",
        "group11=data[(data['Length']<=20)&(data['Length']>0)&(data['Polarity']==1)].sample(225000,ignore_index=True,random_state=6400)\n",
        "group21=data[(data['Length']<=40)&(data['Length']>20)&(data['Polarity']==1)].sample(225000,ignore_index=True,random_state=6400)\n",
        "group31=data[(data['Length']<=60)&(data['Length']>40)&(data['Polarity']==1)].sample(225000,ignore_index=True,random_state=6400)\n",
        "group41=data[(data['Length']<=80)&(data['Length']>60)&(data['Polarity']==1)].sample(225000,ignore_index=True,random_state=6400)\n",
        "group51=data[(data['Length']<=100)&(data['Length']>80)&(data['Polarity']==1)].sample(225000,ignore_index=True,random_state=6400)\n",
        "group61=data[(data['Length']>100)&(data['Polarity']==1)].sample(225000,ignore_index=True,random_state=6400)\n"
      ]
    },
    {
      "cell_type": "code",
      "source": [
        "group1=pd.concat([group10,group11],axis=0)\n",
        "group2=pd.concat([group20,group21],axis=0)\n",
        "group3=pd.concat([group30,group31],axis=0)\n",
        "group4=pd.concat([group40,group41],axis=0)\n",
        "group5=pd.concat([group50,group51],axis=0)\n",
        "group6=pd.concat([group60,group61],axis=0)"
      ],
      "metadata": {
        "id": "ovEtV3AkT-R-"
      },
      "execution_count": null,
      "outputs": []
    },
    {
      "cell_type": "code",
      "source": [
        "x1_train,x1_test,y1_train,y1_test=train_test_split(group1['cleaned'],group1['Polarity'],test_size=0.1,random_state=6400)\n",
        "x2_train,x2_test,y2_train,y2_test=train_test_split(group2['cleaned'],group2['Polarity'],test_size=0.1,random_state=6400)\n",
        "x3_train,x3_test,y3_train,y3_test=train_test_split(group3['cleaned'],group3['Polarity'],test_size=0.1,random_state=6400)\n",
        "x4_train,x4_test,y4_train,y4_test=train_test_split(group4['cleaned'],group4['Polarity'],test_size=0.1,random_state=6400)\n",
        "x5_train,x5_test,y5_train,y5_test=train_test_split(group5['cleaned'],group5['Polarity'],test_size=0.1,random_state=6400)\n",
        "\n",
        "x_train=pd.concat([x1_train,x2_train,x3_train,x4_train,x5_train],axis=0)\n",
        "y_train=pd.concat([y1_train,y2_train,y3_train,y4_train,y5_train],axis=0)\n",
        "x_test=pd.concat([x1_test,x2_test,x3_test,x4_test,x5_test],axis=0)\n",
        "y_test=pd.concat([y1_test,y2_test,y3_test,y4_test,y5_test],axis=0)\n",
        "\n",
        "max_len=100\n",
        "max_word=20000"
      ],
      "metadata": {
        "id": "TW2LxTY3UVpd"
      },
      "execution_count": null,
      "outputs": []
    },
    {
      "cell_type": "markdown",
      "metadata": {
        "id": "zZhUlMHZxiAd"
      },
      "source": [
        "## Tokenizing words and splitting the data"
      ]
    },
    {
      "cell_type": "code",
      "execution_count": null,
      "metadata": {
        "id": "fGpRqheEvGwT"
      },
      "outputs": [],
      "source": [
        "max_len  = 100 #Depending on the group\n",
        "max_word = 20000\n",
        "\n",
        "# tokenizer = Tokenizer(num_words=20000,filters='\"#$%&()*+,-./:;<=>?@[\\\\]^_`{|}~\\t\\n')\n",
        "# tokenizer.fit_on_texts(x_train)\n",
        "\n",
        "tokenizer_file = '/content/drive/MyDrive/NLP/tokenizer.pkl'\n",
        "with open(tokenizer_file, 'rb') as f:\n",
        "    tokenizer = pickle.load(f)\n",
        "\n",
        "import keras\n",
        "from keras.utils import pad_sequences\n",
        "\n",
        "# convert Train dataset to sequence and pad sequences\n",
        "train_sequences = tokenizer.texts_to_sequences(x_train)\n",
        "train_padded = pad_sequences(train_sequences, padding='post', maxlen=max_len)\n",
        "\n",
        "# convert Test dataset to sequence and pad sequences\n",
        "test_sequences = tokenizer.texts_to_sequences(x_test)\n",
        "test_padded = pad_sequences(test_sequences, padding='post', maxlen=max_len)"
      ]
    },
    {
      "cell_type": "code",
      "execution_count": null,
      "metadata": {
        "id": "arrixOPTA9zJ",
        "colab": {
          "base_uri": "https://localhost:8080/"
        },
        "outputId": "dd30c3f8-bba8-4764-b92d-fdc86060dbd0"
      },
      "outputs": [
        {
          "output_type": "stream",
          "name": "stdout",
          "text": [
            "minimum number of words: 0\n",
            "median number of words: 47.0\n",
            "average number of words: 46.91495209876543\n",
            "maximum number of words: 100\n"
          ]
        }
      ],
      "source": [
        "l = [len(i) for i in train_sequences]\n",
        "l = np.array(l)\n",
        "print('minimum number of words: {}'.format(l.min()))\n",
        "print('median number of words: {}'.format(np.median(l)))\n",
        "print('average number of words: {}'.format(l.mean()))\n",
        "print('maximum number of words: {}'.format(l.max()))"
      ]
    },
    {
      "cell_type": "markdown",
      "metadata": {
        "id": "aiQNdXcs-0YG"
      },
      "source": [
        "# LSTM Model"
      ]
    },
    {
      "cell_type": "markdown",
      "metadata": {
        "id": "TplRzOGDEAri"
      },
      "source": [
        "## Hyperparameter Tuning"
      ]
    },
    {
      "cell_type": "code",
      "source": [
        "pip install scikeras"
      ],
      "metadata": {
        "colab": {
          "base_uri": "https://localhost:8080/"
        },
        "id": "gf1UlDWqPl36",
        "outputId": "11571c63-6065-4178-9314-9c3531f0e64d"
      },
      "execution_count": null,
      "outputs": [
        {
          "output_type": "stream",
          "name": "stdout",
          "text": [
            "Looking in indexes: https://pypi.org/simple, https://us-python.pkg.dev/colab-wheels/public/simple/\n",
            "Collecting scikeras\n",
            "  Downloading scikeras-0.10.0-py3-none-any.whl (27 kB)\n",
            "Requirement already satisfied: packaging>=0.21 in /usr/local/lib/python3.9/dist-packages (from scikeras) (23.0)\n",
            "Requirement already satisfied: scikit-learn>=1.0.0 in /usr/local/lib/python3.9/dist-packages (from scikeras) (1.2.2)\n",
            "Requirement already satisfied: joblib>=1.1.1 in /usr/local/lib/python3.9/dist-packages (from scikit-learn>=1.0.0->scikeras) (1.2.0)\n",
            "Requirement already satisfied: threadpoolctl>=2.0.0 in /usr/local/lib/python3.9/dist-packages (from scikit-learn>=1.0.0->scikeras) (3.1.0)\n",
            "Requirement already satisfied: numpy>=1.17.3 in /usr/local/lib/python3.9/dist-packages (from scikit-learn>=1.0.0->scikeras) (1.22.4)\n",
            "Requirement already satisfied: scipy>=1.3.2 in /usr/local/lib/python3.9/dist-packages (from scikit-learn>=1.0.0->scikeras) (1.10.1)\n",
            "Installing collected packages: scikeras\n",
            "Successfully installed scikeras-0.10.0\n"
          ]
        }
      ]
    },
    {
      "cell_type": "code",
      "source": [
        "hyperparameters = {\n",
        "    'num_lstm_layers': [1, 2, 3],\n",
        "    'num_lstm_units': [32, 64, 128],\n",
        "    'learning_rate': [0.001, 0.01, 0.1],\n",
        "    'dropout_rate': [0.2, 0.3, 0.4]\n",
        "}\n",
        "\n",
        "param_grid = list(ParameterGrid(hyperparameters))"
      ],
      "metadata": {
        "id": "r6rRPokj45EM"
      },
      "execution_count": null,
      "outputs": []
    },
    {
      "cell_type": "code",
      "source": [
        "def create_model(num_lstm_layers, num_lstm_units, learning_rate, dropout_rate):\n",
        "    model = Sequential()\n",
        "    model.add(Embedding(20000, 128, input_length=max_len))\n",
        "    model.add(LSTM(num_lstm_units, return_sequences=True))\n",
        "    model.add(Dropout(dropout_rate))\n",
        "    model.add(Activation('relu'))\n",
        "    model.add(Dense(1, activation='sigmoid'))\n",
        "    optimizer = Adam(learning_rate=learning_rate)\n",
        "    model.compile(loss='binary_crossentropy', optimizer=optimizer, metrics=['accuracy'])\n",
        "    return model"
      ],
      "metadata": {
        "id": "Xgs-ZTPhcIga"
      },
      "execution_count": null,
      "outputs": []
    },
    {
      "cell_type": "code",
      "source": [
        "# Perform grid search\n",
        "best_params = None\n",
        "best_score = 0\n",
        "for params in param_grid:\n",
        "    model = create_model(**params)\n",
        "    model.fit(train_padded, y_train,batch_size=128,epochs=10, validation_data=(test_padded,y_test),callbacks=[EarlyStopping(monitor='val_loss',min_delta=0.00001,patience=10)],steps_per_epoch=2048)\n",
        "    loss, score = model.evaluate(test_padded, y_test)\n",
        "    print(f\"params: {params}, score: {score}\")\n",
        "\n",
        "    # Save best hyperparameters\n",
        "    if score > best_score:\n",
        "        best_score = score\n",
        "        best_params = params"
      ],
      "metadata": {
        "id": "P6iRBXZumZ5Z"
      },
      "execution_count": null,
      "outputs": []
    },
    {
      "cell_type": "code",
      "source": [
        "print(\"Best Parameters\")\n",
        "print(best_params)"
      ],
      "metadata": {
        "id": "hIwTPsyM7s1H",
        "colab": {
          "base_uri": "https://localhost:8080/"
        },
        "outputId": "7b733de5-2c50-4239-a159-90374774ff3d"
      },
      "execution_count": null,
      "outputs": [
        {
          "output_type": "stream",
          "name": "stdout",
          "text": [
            "Best Parameters\n",
            "{'dropout_rate': 0.3, 'learning_rate': 0.001, 'num_lstm_layers': 2, 'num_lstm_units': 128}\n"
          ]
        }
      ]
    },
    {
      "cell_type": "code",
      "source": [
        "def lstm_model():\n",
        "    model = Sequential()\n",
        "    model.add(Embedding(20000, 128, input_length=max_len))\n",
        "    model.add(LSTM(128, return_sequences=True))\n",
        "    model.add(Dropout(0.3))\n",
        "    model.add(Activation('relu'))\n",
        "    model.add(LSTM(128, return_sequences=True))\n",
        "    model.add(Dropout(0.3))\n",
        "    model.add(Activation('relu'))\n",
        "    model.add(Dense(1, activation='sigmoid'))\n",
        "    optimizer = Adam(learning_rate=0.001)\n",
        "    model.compile(loss='binary_crossentropy', optimizer=optimizer, metrics=['accuracy'])\n",
        "    return model\n"
      ],
      "metadata": {
        "id": "2WRI13mHmvV-"
      },
      "execution_count": null,
      "outputs": []
    },
    {
      "cell_type": "code",
      "source": [
        "# Train final model on combined training and validation set with best hyperparameters\n",
        "model = lstm_model()\n",
        "model.summary()\n",
        "model.fit(train_padded, y_train ,batch_size=128,epochs=1000, validation_data=(test_padded,y_test),callbacks=[EarlyStopping(monitor='val_loss',min_delta=0.00001,patience=15)],steps_per_epoch=2048)"
      ],
      "metadata": {
        "colab": {
          "base_uri": "https://localhost:8080/"
        },
        "id": "ocW8o41ODrr8",
        "outputId": "44145a7d-d190-4c09-95be-ad18f3388b5d"
      },
      "execution_count": null,
      "outputs": [
        {
          "output_type": "stream",
          "name": "stdout",
          "text": [
            "Model: \"sequential\"\n",
            "_________________________________________________________________\n",
            " Layer (type)                Output Shape              Param #   \n",
            "=================================================================\n",
            " embedding (Embedding)       (None, 100, 128)          2560000   \n",
            "                                                                 \n",
            " lstm (LSTM)                 (None, 100, 128)          131584    \n",
            "                                                                 \n",
            " dropout (Dropout)           (None, 100, 128)          0         \n",
            "                                                                 \n",
            " activation (Activation)     (None, 100, 128)          0         \n",
            "                                                                 \n",
            " lstm_1 (LSTM)               (None, 100, 128)          131584    \n",
            "                                                                 \n",
            " dropout_1 (Dropout)         (None, 100, 128)          0         \n",
            "                                                                 \n",
            " activation_1 (Activation)   (None, 100, 128)          0         \n",
            "                                                                 \n",
            " dense (Dense)               (None, 100, 1)            129       \n",
            "                                                                 \n",
            "=================================================================\n",
            "Total params: 2,823,297\n",
            "Trainable params: 2,823,297\n",
            "Non-trainable params: 0\n",
            "_________________________________________________________________\n",
            "Epoch 1/1000\n",
            "2048/2048 [==============================] - 119s 54ms/step - loss: 0.4343 - accuracy: 0.7920 - val_loss: 0.3886 - val_accuracy: 0.8156\n",
            "Epoch 2/1000\n",
            "2048/2048 [==============================] - 53s 26ms/step - loss: 0.3793 - accuracy: 0.8240 - val_loss: 0.3758 - val_accuracy: 0.8308\n",
            "Epoch 3/1000\n",
            "2048/2048 [==============================] - 49s 24ms/step - loss: 0.3612 - accuracy: 0.8334 - val_loss: 0.3533 - val_accuracy: 0.8372\n",
            "Epoch 4/1000\n",
            "2048/2048 [==============================] - 50s 24ms/step - loss: 0.3500 - accuracy: 0.8395 - val_loss: 0.3410 - val_accuracy: 0.8433\n",
            "Epoch 5/1000\n",
            "2048/2048 [==============================] - 49s 24ms/step - loss: 0.3401 - accuracy: 0.8435 - val_loss: 0.3308 - val_accuracy: 0.8468\n",
            "Epoch 6/1000\n",
            "2048/2048 [==============================] - 49s 24ms/step - loss: 0.3319 - accuracy: 0.8486 - val_loss: 0.3304 - val_accuracy: 0.8508\n",
            "Epoch 7/1000\n",
            "2048/2048 [==============================] - 50s 24ms/step - loss: 0.3258 - accuracy: 0.8516 - val_loss: 0.3235 - val_accuracy: 0.8517\n",
            "Epoch 8/1000\n",
            "2048/2048 [==============================] - 49s 24ms/step - loss: 0.3132 - accuracy: 0.8586 - val_loss: 0.3183 - val_accuracy: 0.8558\n",
            "Epoch 9/1000\n",
            "2048/2048 [==============================] - 50s 24ms/step - loss: 0.3116 - accuracy: 0.8588 - val_loss: 0.3129 - val_accuracy: 0.8575\n",
            "Epoch 10/1000\n",
            "2048/2048 [==============================] - 49s 24ms/step - loss: 0.3094 - accuracy: 0.8597 - val_loss: 0.3114 - val_accuracy: 0.8581\n",
            "Epoch 11/1000\n",
            "2048/2048 [==============================] - 49s 24ms/step - loss: 0.3077 - accuracy: 0.8611 - val_loss: 0.3077 - val_accuracy: 0.8612\n",
            "Epoch 12/1000\n",
            "2048/2048 [==============================] - 48s 24ms/step - loss: 0.3068 - accuracy: 0.8614 - val_loss: 0.3059 - val_accuracy: 0.8621\n",
            "Epoch 13/1000\n",
            "2048/2048 [==============================] - 48s 24ms/step - loss: 0.3045 - accuracy: 0.8620 - val_loss: 0.3053 - val_accuracy: 0.8619\n",
            "Epoch 14/1000\n",
            "2048/2048 [==============================] - 49s 24ms/step - loss: 0.2961 - accuracy: 0.8665 - val_loss: 0.3046 - val_accuracy: 0.8621\n",
            "Epoch 15/1000\n",
            "2048/2048 [==============================] - 49s 24ms/step - loss: 0.2861 - accuracy: 0.8721 - val_loss: 0.3070 - val_accuracy: 0.8614\n",
            "Epoch 16/1000\n",
            "2048/2048 [==============================] - 49s 24ms/step - loss: 0.2877 - accuracy: 0.8708 - val_loss: 0.3021 - val_accuracy: 0.8642\n",
            "Epoch 17/1000\n",
            "2048/2048 [==============================] - 49s 24ms/step - loss: 0.2874 - accuracy: 0.8710 - val_loss: 0.3032 - val_accuracy: 0.8638\n",
            "Epoch 18/1000\n",
            "2048/2048 [==============================] - 49s 24ms/step - loss: 0.2894 - accuracy: 0.8701 - val_loss: 0.3026 - val_accuracy: 0.8643\n",
            "Epoch 19/1000\n",
            "2048/2048 [==============================] - 49s 24ms/step - loss: 0.2895 - accuracy: 0.8702 - val_loss: 0.2993 - val_accuracy: 0.8658\n",
            "Epoch 20/1000\n",
            "2048/2048 [==============================] - 48s 24ms/step - loss: 0.2884 - accuracy: 0.8702 - val_loss: 0.2971 - val_accuracy: 0.8663\n",
            "Epoch 21/1000\n",
            "2048/2048 [==============================] - 49s 24ms/step - loss: 0.2754 - accuracy: 0.8768 - val_loss: 0.3012 - val_accuracy: 0.8650\n",
            "Epoch 22/1000\n",
            "2048/2048 [==============================] - 48s 24ms/step - loss: 0.2700 - accuracy: 0.8794 - val_loss: 0.3039 - val_accuracy: 0.8653\n",
            "Epoch 23/1000\n",
            "2048/2048 [==============================] - 49s 24ms/step - loss: 0.2702 - accuracy: 0.8795 - val_loss: 0.3019 - val_accuracy: 0.8648\n",
            "Epoch 24/1000\n",
            "2048/2048 [==============================] - 49s 24ms/step - loss: 0.2736 - accuracy: 0.8776 - val_loss: 0.3018 - val_accuracy: 0.8656\n",
            "Epoch 25/1000\n",
            "2048/2048 [==============================] - 48s 24ms/step - loss: 0.2725 - accuracy: 0.8784 - val_loss: 0.3034 - val_accuracy: 0.8646\n",
            "Epoch 26/1000\n",
            "2048/2048 [==============================] - 49s 24ms/step - loss: 0.2759 - accuracy: 0.8768 - val_loss: 0.2979 - val_accuracy: 0.8663\n",
            "Epoch 27/1000\n",
            "2048/2048 [==============================] - 49s 24ms/step - loss: 0.2762 - accuracy: 0.8765 - val_loss: 0.2969 - val_accuracy: 0.8669\n",
            "Epoch 28/1000\n",
            "2048/2048 [==============================] - 49s 24ms/step - loss: 0.2541 - accuracy: 0.8873 - val_loss: 0.3050 - val_accuracy: 0.8644\n",
            "Epoch 29/1000\n",
            "2048/2048 [==============================] - 49s 24ms/step - loss: 0.2533 - accuracy: 0.8870 - val_loss: 0.3100 - val_accuracy: 0.8639\n",
            "Epoch 30/1000\n",
            "2048/2048 [==============================] - 49s 24ms/step - loss: 0.2574 - accuracy: 0.8856 - val_loss: 0.3057 - val_accuracy: 0.8643\n",
            "Epoch 31/1000\n",
            "2048/2048 [==============================] - 48s 24ms/step - loss: 0.2593 - accuracy: 0.8843 - val_loss: 0.3070 - val_accuracy: 0.8647\n",
            "Epoch 32/1000\n",
            "2048/2048 [==============================] - 48s 24ms/step - loss: 0.2617 - accuracy: 0.8829 - val_loss: 0.3018 - val_accuracy: 0.8654\n",
            "Epoch 33/1000\n",
            "2048/2048 [==============================] - 48s 24ms/step - loss: 0.2640 - accuracy: 0.8821 - val_loss: 0.3050 - val_accuracy: 0.8655\n",
            "Epoch 34/1000\n",
            "2048/2048 [==============================] - 49s 24ms/step - loss: 0.2607 - accuracy: 0.8842 - val_loss: 0.3150 - val_accuracy: 0.8651\n",
            "Epoch 35/1000\n",
            "2048/2048 [==============================] - 49s 24ms/step - loss: 0.2382 - accuracy: 0.8945 - val_loss: 0.3163 - val_accuracy: 0.8637\n",
            "Epoch 36/1000\n",
            "2048/2048 [==============================] - 48s 24ms/step - loss: 0.2394 - accuracy: 0.8938 - val_loss: 0.3156 - val_accuracy: 0.8636\n",
            "Epoch 37/1000\n",
            "2048/2048 [==============================] - 49s 24ms/step - loss: 0.2443 - accuracy: 0.8915 - val_loss: 0.3156 - val_accuracy: 0.8637\n",
            "Epoch 38/1000\n",
            "2048/2048 [==============================] - 48s 24ms/step - loss: 0.2470 - accuracy: 0.8907 - val_loss: 0.3137 - val_accuracy: 0.8635\n",
            "Epoch 39/1000\n",
            "2048/2048 [==============================] - 48s 24ms/step - loss: 0.2480 - accuracy: 0.8898 - val_loss: 0.3153 - val_accuracy: 0.8646\n",
            "Epoch 40/1000\n",
            "2048/2048 [==============================] - 49s 24ms/step - loss: 0.2515 - accuracy: 0.8883 - val_loss: 0.3105 - val_accuracy: 0.8645\n",
            "Epoch 41/1000\n",
            "2048/2048 [==============================] - 49s 24ms/step - loss: 0.2433 - accuracy: 0.8921 - val_loss: 0.3290 - val_accuracy: 0.8622\n",
            "Epoch 42/1000\n",
            "2048/2048 [==============================] - 48s 24ms/step - loss: 0.2238 - accuracy: 0.9012 - val_loss: 0.3303 - val_accuracy: 0.8617\n",
            "6945/6945 [==============================] - 36s 5ms/step - loss: 0.3303 - accuracy: 0.8617\n"
          ]
        },
        {
          "output_type": "error",
          "ename": "NameError",
          "evalue": "ignored",
          "traceback": [
            "\u001b[0;31m---------------------------------------------------------------------------\u001b[0m",
            "\u001b[0;31mNameError\u001b[0m                                 Traceback (most recent call last)",
            "\u001b[0;32m<ipython-input-18-9a60d393f6ff>\u001b[0m in \u001b[0;36m<cell line: 8>\u001b[0;34m()\u001b[0m\n\u001b[1;32m      6\u001b[0m \u001b[0;31m# Evaluate final model on test set\u001b[0m\u001b[0;34m\u001b[0m\u001b[0;34m\u001b[0m\u001b[0m\n\u001b[1;32m      7\u001b[0m \u001b[0mloss\u001b[0m\u001b[0;34m,\u001b[0m \u001b[0mbest_score\u001b[0m \u001b[0;34m=\u001b[0m \u001b[0mmodel\u001b[0m\u001b[0;34m.\u001b[0m\u001b[0mevaluate\u001b[0m\u001b[0;34m(\u001b[0m\u001b[0mtest_padded\u001b[0m\u001b[0;34m,\u001b[0m \u001b[0my_test\u001b[0m\u001b[0;34m)\u001b[0m\u001b[0;34m\u001b[0m\u001b[0;34m\u001b[0m\u001b[0m\n\u001b[0;32m----> 8\u001b[0;31m \u001b[0mprint\u001b[0m\u001b[0;34m(\u001b[0m\u001b[0;34mf\"Best hyperparameters: {best_params}\"\u001b[0m\u001b[0;34m)\u001b[0m\u001b[0;34m\u001b[0m\u001b[0;34m\u001b[0m\u001b[0m\n\u001b[0m\u001b[1;32m      9\u001b[0m \u001b[0mprint\u001b[0m\u001b[0;34m(\u001b[0m\u001b[0;34mf\"Validation accuracy: {best_score}\"\u001b[0m\u001b[0;34m)\u001b[0m\u001b[0;34m\u001b[0m\u001b[0;34m\u001b[0m\u001b[0m\n",
            "\u001b[0;31mNameError\u001b[0m: name 'best_params' is not defined"
          ]
        }
      ]
    },
    {
      "cell_type": "code",
      "source": [
        "# Evaluate final model on test set\n",
        "loss, best_score = model.evaluate(test_padded, y_test)\n",
        "print(f\"Validation accuracy: {best_score}\")"
      ],
      "metadata": {
        "colab": {
          "base_uri": "https://localhost:8080/"
        },
        "id": "vAdxoGS9jS1n",
        "outputId": "d4799583-de99-4da8-c11a-5d1331f4faa0"
      },
      "execution_count": null,
      "outputs": [
        {
          "output_type": "stream",
          "name": "stdout",
          "text": [
            "6945/6945 [==============================] - 36s 5ms/step - loss: 0.3303 - accuracy: 0.8617\n",
            "Validation accuracy: 0.8617249131202698\n"
          ]
        }
      ]
    },
    {
      "cell_type": "markdown",
      "source": [
        "## Saving the model and tokenizer"
      ],
      "metadata": {
        "id": "gzWqOfAfbM_m"
      }
    },
    {
      "cell_type": "code",
      "source": [
        "# save the model\n",
        "model.save('LSTM.h5')\n",
        "# save the tokenizer to a file\n",
        "tokenizer_file = '/content/drive/MyDrive/NLP/tokenizer.pkl'\n",
        "with open(tokenizer_file, 'wb') as f:\n",
        "    pickle.dump(tokenizer, f)"
      ],
      "metadata": {
        "id": "RhHioR07bMiX"
      },
      "execution_count": null,
      "outputs": []
    },
    {
      "cell_type": "markdown",
      "source": [
        "## Load the model and test for each group"
      ],
      "metadata": {
        "id": "wp_F6NW9eObz"
      }
    },
    {
      "cell_type": "code",
      "source": [
        "max_len = 100\n",
        "LSTM = tf.keras.models.load_model('/content/drive/MyDrive/NLP/LSTM.h5')\n",
        "optimizer = Adam(learning_rate=0.001)\n",
        "LSTM.compile(loss='binary_crossentropy', optimizer=optimizer, metrics=['accuracy', get_f1, get_recall, get_precision])\n",
        "LSTM_original = []"
      ],
      "metadata": {
        "id": "K-zA1t28etqj"
      },
      "execution_count": null,
      "outputs": []
    },
    {
      "cell_type": "code",
      "source": [
        "# Group-1\n",
        "\n",
        "g1_test = tokenizer.texts_to_sequences(x1_test)\n",
        "g1_padded = sequence.pad_sequences(g1_test, padding='post', maxlen=max_len)\n",
        "loss, accuracy, f1, recall, precision = LSTM.evaluate(g1_padded, y1_test)\n",
        "print(\"Group-1\")\n",
        "print(f\"Loss: {loss}\")\n",
        "print(f\"Accuracy: {accuracy}\")\n",
        "print(f\"Recall: {recall}\")\n",
        "print(f\"Precision: {precision}\")\n",
        "print(f\"F1-score: {f1}\")\n",
        "LSTM_original.append(accuracy)"
      ],
      "metadata": {
        "colab": {
          "base_uri": "https://localhost:8080/"
        },
        "id": "rrTOnH--eOvl",
        "outputId": "fd000be5-888c-47c7-de9c-96002e274a69"
      },
      "execution_count": null,
      "outputs": [
        {
          "output_type": "stream",
          "name": "stdout",
          "text": [
            "1407/1407 [==============================] - 13s 6ms/step - loss: 0.2969 - accuracy: 0.8732 - get_f1: 1.7573 - get_recall: 85.5080 - get_precision: 0.8879\n",
            "Group-1\n",
            "Loss: 0.29693353176116943\n",
            "Accuracy: 0.8732087016105652\n",
            "Recall: 85.50801849365234\n",
            "Precision: 0.887930154800415\n",
            "F1-score: 1.7573148012161255\n"
          ]
        }
      ]
    },
    {
      "cell_type": "code",
      "source": [
        "# Group-2\n",
        "\n",
        "g2_test = tokenizer.texts_to_sequences(x2_test)\n",
        "g2_padded = sequence.pad_sequences(g2_test, padding='post', maxlen=max_len)\n",
        "loss, accuracy, f1, recall, precision = LSTM.evaluate(g2_padded, y2_test)\n",
        "print(f\"Loss: {loss}\")\n",
        "print(f\"Accuracy: {accuracy}\")\n",
        "print(f\"Recall: {recall}\")\n",
        "print(f\"Precision: {precision}\")\n",
        "print(f\"F1-score: {f1}\")\n",
        "LSTM_original.append(accuracy)"
      ],
      "metadata": {
        "colab": {
          "base_uri": "https://localhost:8080/"
        },
        "id": "eOt_iEm-kJEH",
        "outputId": "c6221ef5-23f0-467f-d18c-966e99827670"
      },
      "execution_count": null,
      "outputs": [
        {
          "output_type": "stream",
          "name": "stdout",
          "text": [
            "1407/1407 [==============================] - 8s 6ms/step - loss: 0.2565 - accuracy: 0.8898 - get_f1: 1.7922 - get_recall: 86.9666 - get_precision: 0.9055\n",
            "Loss: 0.25653859972953796\n",
            "Accuracy: 0.889759361743927\n",
            "Recall: 86.96662139892578\n",
            "Precision: 0.9054985642433167\n",
            "F1-score: 1.7921581268310547\n"
          ]
        }
      ]
    },
    {
      "cell_type": "code",
      "source": [
        "# Group-3\n",
        "\n",
        "g3_test = tokenizer.texts_to_sequences(x3_test)\n",
        "g3_padded = sequence.pad_sequences(g3_test, padding='post', maxlen=max_len)\n",
        "loss, accuracy, f1, recall, precision = LSTM.evaluate(g3_padded, y3_test)\n",
        "print(\"Group-3\")\n",
        "print(f\"Loss: {loss}\")\n",
        "print(f\"Accuracy: {accuracy}\")\n",
        "print(f\"Recall: {recall}\")\n",
        "print(f\"Precision: {precision}\")\n",
        "print(f\"F1-score: {f1}\")\n",
        "LSTM_original.append(accuracy)"
      ],
      "metadata": {
        "colab": {
          "base_uri": "https://localhost:8080/"
        },
        "id": "22Xc1p2JkK7t",
        "outputId": "76139122-eb66-45ea-89c9-d26a9bb60409"
      },
      "execution_count": null,
      "outputs": [
        {
          "output_type": "stream",
          "name": "stdout",
          "text": [
            "1407/1407 [==============================] - 8s 6ms/step - loss: 0.2129 - accuracy: 0.9111 - get_f1: 1.8173 - get_recall: 90.2161 - get_precision: 0.9180\n",
            "Group-3\n",
            "Loss: 0.21290765702724457\n",
            "Accuracy: 0.9111257195472717\n",
            "Recall: 90.21611022949219\n",
            "Precision: 0.9179567098617554\n",
            "F1-score: 1.8173127174377441\n"
          ]
        }
      ]
    },
    {
      "cell_type": "code",
      "source": [
        "# Group-4\n",
        "\n",
        "g4_test = tokenizer.texts_to_sequences(x4_test)\n",
        "g4_padded = sequence.pad_sequences(g4_test, padding='post', maxlen=max_len)\n",
        "loss, accuracy, f1, recall, precision = LSTM.evaluate(g4_padded, y4_test)\n",
        "print(\"Group-4\")\n",
        "print(f\"Loss: {loss}\")\n",
        "print(f\"Accuracy: {accuracy}\")\n",
        "print(f\"Recall: {recall}\")\n",
        "print(f\"Precision: {precision}\")\n",
        "print(f\"F1-score: {f1}\")\n",
        "LSTM_original.append(accuracy)"
      ],
      "metadata": {
        "colab": {
          "base_uri": "https://localhost:8080/"
        },
        "id": "q9EW1bsDkLXA",
        "outputId": "8e381c20-8d81-4d38-d7e8-66c98cf15260"
      },
      "execution_count": null,
      "outputs": [
        {
          "output_type": "stream",
          "name": "stdout",
          "text": [
            "1407/1407 [==============================] - 8s 6ms/step - loss: 0.2233 - accuracy: 0.9032 - get_f1: 1.8017 - get_recall: 89.3305 - get_precision: 0.9101\n",
            "Group-4\n",
            "Loss: 0.22333884239196777\n",
            "Accuracy: 0.9032427668571472\n",
            "Recall: 89.3305435180664\n",
            "Precision: 0.9101049900054932\n",
            "F1-score: 1.8017452955245972\n"
          ]
        }
      ]
    },
    {
      "cell_type": "code",
      "source": [
        "# Group-5\n",
        "\n",
        "g5_test = tokenizer.texts_to_sequences(x5_test)\n",
        "g5_padded = sequence.pad_sequences(g5_test, padding='post', maxlen=max_len)\n",
        "loss, accuracy, f1, recall, precision = LSTM.evaluate(g5_padded, y5_test)\n",
        "print(\"Group-5\")\n",
        "print(f\"Loss: {loss}\")\n",
        "print(f\"Accuracy: {accuracy}\")\n",
        "print(f\"Recall: {recall}\")\n",
        "print(f\"Precision: {precision}\")\n",
        "print(f\"F1-score: {f1}\")\n",
        "LSTM_original.append(accuracy)"
      ],
      "metadata": {
        "colab": {
          "base_uri": "https://localhost:8080/"
        },
        "id": "Bd1oVwZykMJf",
        "outputId": "4e6d2446-d9c5-4de8-ecda-1d416f372e12"
      },
      "execution_count": null,
      "outputs": [
        {
          "output_type": "stream",
          "name": "stdout",
          "text": [
            "1407/1407 [==============================] - 8s 5ms/step - loss: 0.2307 - accuracy: 0.8986 - get_f1: 1.7925 - get_recall: 88.8588 - get_precision: 0.9054\n",
            "Group-5\n",
            "Loss: 0.23070888221263885\n",
            "Accuracy: 0.8985908627510071\n",
            "Recall: 88.85875701904297\n",
            "Precision: 0.9054311513900757\n",
            "F1-score: 1.7924904823303223\n"
          ]
        }
      ]
    },
    {
      "cell_type": "markdown",
      "source": [
        "# LSTM Model - With Attention"
      ],
      "metadata": {
        "id": "tlTYv43ZwM82"
      }
    },
    {
      "cell_type": "markdown",
      "source": [
        "## Hyperparameter Tuning"
      ],
      "metadata": {
        "id": "TeMa5FA3wUv_"
      }
    },
    {
      "cell_type": "code",
      "source": [
        "hyperparameters = {\n",
        "    'num_lstm_layers': [1, 2, 3],\n",
        "    'num_lstm_units': [32, 64, 128],\n",
        "    'learning_rate': [0.001, 0.01, 0.1],\n",
        "    'dropout_rate': [0.2, 0.3, 0.4]\n",
        "}\n",
        "\n",
        "param_grid = list(ParameterGrid(hyperparameters))"
      ],
      "metadata": {
        "colab": {
          "base_uri": "https://localhost:8080/",
          "height": 200
        },
        "id": "po09dhWguVeK",
        "outputId": "5a574c60-3ea9-4503-97ee-62302545e5d6"
      },
      "execution_count": null,
      "outputs": [
        {
          "output_type": "error",
          "ename": "NameError",
          "evalue": "ignored",
          "traceback": [
            "\u001b[0;31m---------------------------------------------------------------------------\u001b[0m",
            "\u001b[0;31mNameError\u001b[0m                                 Traceback (most recent call last)",
            "\u001b[0;32m<ipython-input-3-15324a021ade>\u001b[0m in \u001b[0;36m<cell line: 8>\u001b[0;34m()\u001b[0m\n\u001b[1;32m      6\u001b[0m }\n\u001b[1;32m      7\u001b[0m \u001b[0;34m\u001b[0m\u001b[0m\n\u001b[0;32m----> 8\u001b[0;31m \u001b[0mparam_grid\u001b[0m \u001b[0;34m=\u001b[0m \u001b[0mlist\u001b[0m\u001b[0;34m(\u001b[0m\u001b[0mParameterGrid\u001b[0m\u001b[0;34m(\u001b[0m\u001b[0mhyperparameters\u001b[0m\u001b[0;34m)\u001b[0m\u001b[0;34m)\u001b[0m\u001b[0;34m\u001b[0m\u001b[0;34m\u001b[0m\u001b[0m\n\u001b[0m",
            "\u001b[0;31mNameError\u001b[0m: name 'ParameterGrid' is not defined"
          ]
        }
      ]
    },
    {
      "cell_type": "code",
      "source": [
        "class attention(tf.keras.layers.Layer):\n",
        "  def __init__(self, **kwargs):\n",
        "      super(attention, self).__init__(**kwargs)\n",
        "\n",
        "  def build(self, input_shape):\n",
        "    self.W=self.add_weight(name=\"att_weight\",shape=(input_shape[-1],1),initializer=\"normal\")\n",
        "    self.b=self.add_weight(name=\"att_bias\",shape=(input_shape[1],1),initializer=\"zeros\")\n",
        "    super(attention, self).build(input_shape)\n",
        "\n",
        "  def call(self, x):\n",
        "    et = tf.keras.backend.dot(x, self.W) + self.b\n",
        "    at = tf.keras.backend.softmax(et, axis=1)\n",
        "    output = x * at\n",
        "    return tf.keras.backend.sum(output, axis=1)\n",
        "\n",
        "  def compute_output_shape(self,input_shape):\n",
        "    return (input_shape[0],input_shape[-1])\n",
        "\n",
        "  def get_config(self):\n",
        "    return super(attention,self).get_config()"
      ],
      "metadata": {
        "id": "gWMh-AOKu_-C"
      },
      "execution_count": null,
      "outputs": []
    },
    {
      "cell_type": "code",
      "source": [
        "def create_model(max_len, num_lstm_layers, num_lstm_units, num_dense_units, learning_rate, dropout_rate):\n",
        "    model = Sequential()\n",
        "    model.add(Embedding(20000, 128, input_length=max_len))\n",
        "    for i in range(num_lstm_layers):\n",
        "        model.add(LSTM(num_lstm_units, return_sequences=True)))\n",
        "        model.add(Dropout(dropout_rate))\n",
        "    model.add(attention(max_len))\n",
        "    model.add(Dense(num_dense_units, activation='relu'))\n",
        "    model.add(Dropout(dropout_rate))\n",
        "    model.add(Dense(1, activation='sigmoid'))\n",
        "    optimizer = Adam(learning_rate=learning_rate)\n",
        "    model.compile(loss='binary_crossentropy', optimizer=optimizer, metrics=['accuracy'])\n",
        "    return model"
      ],
      "metadata": {
        "id": "KHgVe-yGBswT"
      },
      "execution_count": null,
      "outputs": []
    },
    {
      "cell_type": "code",
      "source": [
        "# Perform grid search\n",
        "best_params = None\n",
        "best_score = 0\n",
        "for params in param_grid:\n",
        "    model = create_model(**params)\n",
        "    model.fit(train_padded, y_train,batch_size=128,epochs=10, validation_data=(test_padded,y_test),callbacks=[EarlyStopping(monitor='val_loss',min_delta=0.00001,patience=10)],steps_per_epoch=2048)\n",
        "    loss, score = model.evaluate(test_padded, y_test)\n",
        "    print(f\"params: {params}, score: {score}\")\n",
        "\n",
        "    # Save best hyperparameters\n",
        "    if score > best_score:\n",
        "        best_score = score\n",
        "        best_params = params"
      ],
      "metadata": {
        "id": "fRmpKxNiBsIG"
      },
      "execution_count": null,
      "outputs": []
    },
    {
      "cell_type": "code",
      "source": [
        "print(\"Best Parameters\")\n",
        "print(best_params)"
      ],
      "metadata": {
        "id": "pPAB7gOzB4Ow"
      },
      "execution_count": null,
      "outputs": []
    },
    {
      "cell_type": "code",
      "source": [
        "def lstm_attention_model():\n",
        "  inputs = Input(shape=(max_len,), dtype=\"int32\")\n",
        "  x = Embedding(20000, 128, input_length=max_len)(inputs)\n",
        "\n",
        "  layer1 = LSTM(128, return_sequences=True)(x)\n",
        "  droupout1 = Dropout(0.3)(layer1)\n",
        "  act1 = Activation('relu')(droupout1)\n",
        "  layer2 = LSTM(128, return_sequences=True)(act1)\n",
        "  dropout2 = Dropout(0.3)(layer2)\n",
        "\n",
        "  att_in = attention()(dropout2)\n",
        "  output1 = Dense(128, activation='relu')(att_in)\n",
        "  dropout3 = Dropout(0.2)(output1)\n",
        "  output2 = Dense(1, activation='sigmoid')(dropout3)\n",
        "\n",
        "  model = tf.keras.Model(inputs, output2)\n",
        "  optimizer = Adam(learning_rate=0.001)\n",
        "  model.compile(loss='binary_crossentropy', optimizer=optimizer, metrics=['accuracy'])\n",
        "  return model"
      ],
      "metadata": {
        "id": "mqRiyyIn60BJ"
      },
      "execution_count": null,
      "outputs": []
    },
    {
      "cell_type": "code",
      "source": [
        "model = lstm_attention_model()\n",
        "model.summary()\n",
        "model.fit(train_padded, y_train ,batch_size=128,epochs=1000, validation_data=(test_padded,y_test),callbacks=[EarlyStopping(monitor='val_loss',min_delta=0.00001,patience=15)],steps_per_epoch=2048)\n",
        "\n"
      ],
      "metadata": {
        "id": "Gi1saHk_7lA3"
      },
      "execution_count": null,
      "outputs": []
    },
    {
      "cell_type": "code",
      "source": [
        "# Evaluate final model on test set\n",
        "loss, best_score = model.evaluate(test_padded, y_test)\n",
        "print(f\"Validation accuracy: {best_score}\")"
      ],
      "metadata": {
        "id": "i0pKyuVhgkrr"
      },
      "execution_count": null,
      "outputs": []
    },
    {
      "cell_type": "markdown",
      "source": [
        "## Saving the model"
      ],
      "metadata": {
        "id": "jfnHyOnCg3ld"
      }
    },
    {
      "cell_type": "code",
      "source": [
        "# save the model\n",
        "model.save('LSTM_attention.h5')"
      ],
      "metadata": {
        "id": "ef2KKcJmg3le"
      },
      "execution_count": null,
      "outputs": []
    },
    {
      "cell_type": "markdown",
      "source": [
        "## Load the model and test for each group"
      ],
      "metadata": {
        "id": "JjaGXgMRKjm9"
      }
    },
    {
      "cell_type": "code",
      "source": [
        "max_len = 100\n",
        "LSTM_att = load_model('/content/drive/MyDrive/NLP/LSTM_attention.h5', custom_objects={\"attention\": attention})\n",
        "optimizer = Adam(learning_rate=0.001)\n",
        "LSTM_att.compile(loss='binary_crossentropy', optimizer=optimizer, metrics=['accuracy', get_f1, get_recall, get_precision])\n",
        "LSTM_Att = []"
      ],
      "metadata": {
        "id": "Lnq0oS8EKjm9"
      },
      "execution_count": null,
      "outputs": []
    },
    {
      "cell_type": "code",
      "source": [
        "# Group-1\n",
        "\n",
        "g1_test = tokenizer.texts_to_sequences(x1_test)\n",
        "g1_padded = sequence.pad_sequences(g1_test, padding='post', maxlen=max_len)\n",
        "loss, accuracy, f1, recall, precision = LSTM_att.evaluate(g1_padded, y1_test)\n",
        "print(\"Group-1\")\n",
        "print(f\"Loss: {loss}\")\n",
        "print(f\"Accuracy: {accuracy}\")\n",
        "print(f\"Recall: {recall}\")\n",
        "print(f\"Precision: {precision}\")\n",
        "print(f\"F1-score: {f1}\")\n",
        "LSTM_Att.append(accuracy)"
      ],
      "metadata": {
        "id": "K08fsgVQKjm-",
        "colab": {
          "base_uri": "https://localhost:8080/"
        },
        "outputId": "9679ad2b-6bfa-410d-9471-fa8125716154"
      },
      "execution_count": null,
      "outputs": [
        {
          "output_type": "stream",
          "name": "stdout",
          "text": [
            "1407/1407 [==============================] - 9s 5ms/step - loss: 0.2937 - accuracy: 0.8747 - get_f1: 0.0168 - get_recall: 0.0085 - get_precision: 0.8993\n",
            "Group-1\n",
            "Loss: 0.29368478059768677\n",
            "Accuracy: 0.8747110962867737\n",
            "Recall: 0.008462594822049141\n",
            "Precision: 0.8992683291435242\n",
            "F1-score: 0.016764624044299126\n"
          ]
        }
      ]
    },
    {
      "cell_type": "code",
      "source": [
        "# Group-2\n",
        "\n",
        "g2_test = tokenizer.texts_to_sequences(x2_test)\n",
        "g2_padded = sequence.pad_sequences(g2_test, padding='post', maxlen=max_len)\n",
        "loss, accuracy, f1, recall, precision = LSTM_att.evaluate(g2_padded, y2_test)\n",
        "print(\"Group-2\")\n",
        "print(f\"Loss: {loss}\")\n",
        "print(f\"Accuracy: {accuracy}\")\n",
        "print(f\"Recall: {recall}\")\n",
        "print(f\"Precision: {precision}\")\n",
        "print(f\"F1-score: {f1}\")\n",
        "LSTM_Att.append(accuracy)"
      ],
      "metadata": {
        "id": "OK5Y7rWtKjm-",
        "colab": {
          "base_uri": "https://localhost:8080/"
        },
        "outputId": "abba3564-50e2-4e10-9c78-42b36b676308"
      },
      "execution_count": null,
      "outputs": [
        {
          "output_type": "stream",
          "name": "stdout",
          "text": [
            "1407/1407 [==============================] - 7s 5ms/step - loss: 0.2395 - accuracy: 0.9010 - get_f1: 0.0176 - get_recall: 0.0089 - get_precision: 0.9137\n",
            "Group-2\n",
            "Loss: 0.23947228491306305\n",
            "Accuracy: 0.9009777903556824\n",
            "Recall: 0.008875997737050056\n",
            "Precision: 0.9137227535247803\n",
            "F1-score: 0.01757892780005932\n"
          ]
        }
      ]
    },
    {
      "cell_type": "code",
      "source": [
        "# Group-3\n",
        "\n",
        "g3_test = tokenizer.texts_to_sequences(x3_test)\n",
        "g3_padded = sequence.pad_sequences(g3_test, padding='post', maxlen=max_len)\n",
        "loss, accuracy, f1, recall, precision = LSTM_att.evaluate(g3_padded, y3_test)\n",
        "print(\"Group-3\")\n",
        "print(f\"Loss: {loss}\")\n",
        "print(f\"Accuracy: {accuracy}\")\n",
        "print(f\"Recall: {recall}\")\n",
        "print(f\"Precision: {precision}\")\n",
        "print(f\"F1-score: {f1}\")\n",
        "LSTM_Att.append(accuracy)"
      ],
      "metadata": {
        "id": "mAKvZRKoKjm-",
        "colab": {
          "base_uri": "https://localhost:8080/"
        },
        "outputId": "2d952dc0-ea29-44f1-8109-8136f2231a85"
      },
      "execution_count": null,
      "outputs": [
        {
          "output_type": "stream",
          "name": "stdout",
          "text": [
            "1407/1407 [==============================] - 7s 5ms/step - loss: 0.1783 - accuracy: 0.9333 - get_f1: 0.0186 - get_recall: 0.0094 - get_precision: 0.9294\n",
            "Group-3\n",
            "Loss: 0.17825758457183838\n",
            "Accuracy: 0.9333111047744751\n",
            "Recall: 0.009391783736646175\n",
            "Precision: 0.9294322729110718\n",
            "F1-score: 0.018593842163681984\n"
          ]
        }
      ]
    },
    {
      "cell_type": "code",
      "source": [
        "# Group-4\n",
        "\n",
        "g4_test = tokenizer.texts_to_sequences(x4_test)\n",
        "g4_padded = sequence.pad_sequences(g4_test, padding='post', maxlen=max_len)\n",
        "loss, accuracy, f1, recall, precision = LSTM_att.evaluate(g4_padded, y4_test)\n",
        "print(\"Group-4\")\n",
        "print(f\"Loss: {loss}\")\n",
        "print(f\"Accuracy: {accuracy}\")\n",
        "print(f\"Recall: {recall}\")\n",
        "print(f\"Precision: {precision}\")\n",
        "print(f\"F1-score: {f1}\")\n",
        "LSTM_Att.append(accuracy)"
      ],
      "metadata": {
        "id": "yjdM2j2MKjm-",
        "colab": {
          "base_uri": "https://localhost:8080/"
        },
        "outputId": "d78869e0-9899-4201-bc66-852a40ead7e8"
      },
      "execution_count": null,
      "outputs": [
        {
          "output_type": "stream",
          "name": "stdout",
          "text": [
            "1407/1407 [==============================] - 7s 5ms/step - loss: 0.1733 - accuracy: 0.9354 - get_f1: 0.0187 - get_recall: 0.0094 - get_precision: 0.9296\n",
            "Group-4\n",
            "Loss: 0.1733327955007553\n",
            "Accuracy: 0.9354000091552734\n",
            "Recall: 0.009432525373995304\n",
            "Precision: 0.9296061396598816\n",
            "F1-score: 0.018673818558454514\n"
          ]
        }
      ]
    },
    {
      "cell_type": "code",
      "source": [
        "# Group-5\n",
        "\n",
        "g5_test = tokenizer.texts_to_sequences(x5_test)\n",
        "g5_padded = sequence.pad_sequences(g5_test, padding='post', maxlen=max_len)\n",
        "loss, accuracy, f1, recall, precision = LSTM_att.evaluate(g5_padded, y5_test)\n",
        "print(\"Group-5\")\n",
        "print(f\"Loss: {loss}\")\n",
        "print(f\"Accuracy: {accuracy}\")\n",
        "print(f\"Recall: {recall}\")\n",
        "print(f\"Precision: {precision}\")\n",
        "print(f\"F1-score: {f1}\")\n",
        "LSTM_Att.append(accuracy)"
      ],
      "metadata": {
        "id": "wIsOGbblKjm_",
        "colab": {
          "base_uri": "https://localhost:8080/"
        },
        "outputId": "f6cd0c82-c588-4f95-bced-d519761e5ca0"
      },
      "execution_count": null,
      "outputs": [
        {
          "output_type": "stream",
          "name": "stdout",
          "text": [
            "1407/1407 [==============================] - 7s 5ms/step - loss: 0.1725 - accuracy: 0.9373 - get_f1: 0.0187 - get_recall: 0.0095 - get_precision: 0.9320\n",
            "Group-5\n",
            "Loss: 0.17248670756816864\n",
            "Accuracy: 0.9373111128807068\n",
            "Recall: 0.009453484788537025\n",
            "Precision: 0.9320306181907654\n",
            "F1-score: 0.018715348094701767\n"
          ]
        }
      ]
    },
    {
      "cell_type": "markdown",
      "source": [
        "# Bi-LSTM"
      ],
      "metadata": {
        "id": "miBjM9hwTwcE"
      }
    },
    {
      "cell_type": "markdown",
      "source": [
        "## Hyperparameter Tuning"
      ],
      "metadata": {
        "id": "BcS7YMhHfAQX"
      }
    },
    {
      "cell_type": "code",
      "source": [
        "hyperparameters = {\n",
        "    'num_lstm_layers': [1, 2, 3],\n",
        "    'num_lstm_units': [32, 64, 128],\n",
        "    'learning_rate': [0.001, 0.01, 0.1],\n",
        "    'dropout_rate': [0.2, 0.3, 0.4]\n",
        "}\n",
        "\n",
        "param_grid = list(ParameterGrid(hyperparameters))"
      ],
      "metadata": {
        "id": "MiykwA2gTxAu"
      },
      "execution_count": null,
      "outputs": []
    },
    {
      "cell_type": "code",
      "source": [
        "def create_model(num_lstm_layers, num_lstm_units, learning_rate, dropout_rate):\n",
        "    model = Sequential()\n",
        "    model.add(Embedding(20000, 128, input_length=max_len))\n",
        "    model.add(Bidirectional(LSTM(num_lstm_units, return_sequences=True)))\n",
        "    model.add(Dropout(dropout_rate))\n",
        "    model.add(Activation('relu'))\n",
        "    model.add(Dense(1, activation='sigmoid'))\n",
        "    optimizer = Adam(learning_rate=learning_rate)\n",
        "    model.compile(loss='binary_crossentropy', optimizer=optimizer, metrics=['accuracy'])\n",
        "    return model"
      ],
      "metadata": {
        "id": "ds05CwaXfDm6"
      },
      "execution_count": null,
      "outputs": []
    },
    {
      "cell_type": "code",
      "source": [
        "# Perform grid search\n",
        "best_params = None\n",
        "best_score = 0\n",
        "for params in param_grid:\n",
        "    model = create_model(**params)\n",
        "    model.fit(train_padded, y_train,batch_size=128,epochs=10, validation_data=(test_padded,y_test),callbacks=[EarlyStopping(monitor='val_loss',min_delta=0.00001,patience=10)],steps_per_epoch=2048)\n",
        "    loss, score = model.evaluate(test_padded, y_test)\n",
        "    print(f\"params: {params}, score: {score}\")\n",
        "\n",
        "    # Save best hyperparameters\n",
        "    if score > best_score:\n",
        "        best_score = score\n",
        "        best_params = params"
      ],
      "metadata": {
        "id": "3AR0WaB0fQcu"
      },
      "execution_count": null,
      "outputs": []
    },
    {
      "cell_type": "code",
      "source": [
        "print(\"Best Parameters\")\n",
        "print(best_params)"
      ],
      "metadata": {
        "id": "yozz4EHdfTRR"
      },
      "execution_count": null,
      "outputs": []
    },
    {
      "cell_type": "code",
      "source": [
        "def bi_lstm_model():\n",
        "    model = Sequential()\n",
        "    model.add(Embedding(20000, 128, input_length=max_len))\n",
        "\n",
        "    model.add(Bidirectional(LSTM(128, return_sequences=True)))\n",
        "    model.add(Dropout(0.3))\n",
        "    model.add(Activation('relu'))\n",
        "\n",
        "    model.add(Bidirectional(LSTM(128, return_sequences=True)))\n",
        "    model.add(Dropout(0.3))\n",
        "    model.add(Activation('relu'))\n",
        "\n",
        "    model.add(Dense(1, activation='sigmoid'))\n",
        "    optimizer = Adam(learning_rate=0.001)\n",
        "    model.compile(loss='binary_crossentropy', optimizer=optimizer, metrics=['accuracy'])\n",
        "    return model\n"
      ],
      "metadata": {
        "id": "niUfdJIWfTK5"
      },
      "execution_count": null,
      "outputs": []
    },
    {
      "cell_type": "code",
      "source": [
        "# Train final model on combined training and validation set with best hyperparameters\n",
        "final_model = bi_lstm_model()\n",
        "final_model.summary()\n",
        "final_model.fit(train_padded, y_train ,batch_size=128,epochs=1000, validation_data=(test_padded,y_test),callbacks=[EarlyStopping(monitor='val_loss',min_delta=0.00001,patience=15)],steps_per_epoch=2048)"
      ],
      "metadata": {
        "colab": {
          "base_uri": "https://localhost:8080/"
        },
        "id": "UkV9Kwn8flRO",
        "outputId": "1cb1abb9-980a-426a-ca6d-aebda3bf255c"
      },
      "execution_count": null,
      "outputs": [
        {
          "output_type": "stream",
          "name": "stdout",
          "text": [
            "Model: \"sequential_5\"\n",
            "_________________________________________________________________\n",
            " Layer (type)                Output Shape              Param #   \n",
            "=================================================================\n",
            " embedding_8 (Embedding)     (None, 100, 128)          2560000   \n",
            "                                                                 \n",
            " bidirectional_4 (Bidirectio  (None, 100, 256)         263168    \n",
            " nal)                                                            \n",
            "                                                                 \n",
            " dropout_19 (Dropout)        (None, 100, 256)          0         \n",
            "                                                                 \n",
            " activation_10 (Activation)  (None, 100, 256)          0         \n",
            "                                                                 \n",
            " bidirectional_5 (Bidirectio  (None, 100, 256)         394240    \n",
            " nal)                                                            \n",
            "                                                                 \n",
            " dropout_20 (Dropout)        (None, 100, 256)          0         \n",
            "                                                                 \n",
            " activation_11 (Activation)  (None, 100, 256)          0         \n",
            "                                                                 \n",
            " dense_9 (Dense)             (None, 100, 1)            257       \n",
            "                                                                 \n",
            "=================================================================\n",
            "Total params: 3,217,665\n",
            "Trainable params: 3,217,665\n",
            "Non-trainable params: 0\n",
            "_________________________________________________________________\n",
            "Epoch 1/1000\n",
            "2048/2048 [==============================] - 146s 68ms/step - loss: 0.3522 - accuracy: 0.8457 - val_loss: 0.3031 - val_accuracy: 0.8718\n",
            "Epoch 2/1000\n",
            "2048/2048 [==============================] - 104s 51ms/step - loss: 0.2890 - accuracy: 0.8774 - val_loss: 0.2718 - val_accuracy: 0.8824\n",
            "Epoch 3/1000\n",
            "2048/2048 [==============================] - 100s 49ms/step - loss: 0.2631 - accuracy: 0.8893 - val_loss: 0.2701 - val_accuracy: 0.8878\n",
            "Epoch 4/1000\n",
            "2048/2048 [==============================] - 99s 49ms/step - loss: 0.2472 - accuracy: 0.8971 - val_loss: 0.2388 - val_accuracy: 0.9007\n",
            "Epoch 5/1000\n",
            "2048/2048 [==============================] - 99s 48ms/step - loss: 0.2382 - accuracy: 0.9014 - val_loss: 0.2349 - val_accuracy: 0.9025\n",
            "Epoch 6/1000\n",
            "2048/2048 [==============================] - 98s 48ms/step - loss: 0.2312 - accuracy: 0.9043 - val_loss: 0.2271 - val_accuracy: 0.9056\n",
            "Epoch 7/1000\n",
            "2048/2048 [==============================] - 99s 48ms/step - loss: 0.2258 - accuracy: 0.9062 - val_loss: 0.2217 - val_accuracy: 0.9081\n",
            "Epoch 8/1000\n",
            "2048/2048 [==============================] - 98s 48ms/step - loss: 0.2161 - accuracy: 0.9112 - val_loss: 0.2223 - val_accuracy: 0.9087\n",
            "Epoch 9/1000\n",
            "2048/2048 [==============================] - 98s 48ms/step - loss: 0.2082 - accuracy: 0.9153 - val_loss: 0.2271 - val_accuracy: 0.9076\n",
            "Epoch 10/1000\n",
            "2048/2048 [==============================] - 98s 48ms/step - loss: 0.2090 - accuracy: 0.9148 - val_loss: 0.2183 - val_accuracy: 0.9105\n",
            "Epoch 11/1000\n",
            "2048/2048 [==============================] - 98s 48ms/step - loss: 0.2057 - accuracy: 0.9166 - val_loss: 0.2138 - val_accuracy: 0.9120\n",
            "Epoch 12/1000\n",
            "2048/2048 [==============================] - 98s 48ms/step - loss: 0.2053 - accuracy: 0.9159 - val_loss: 0.2132 - val_accuracy: 0.9115\n",
            "Epoch 13/1000\n",
            "2048/2048 [==============================] - 98s 48ms/step - loss: 0.2021 - accuracy: 0.9178 - val_loss: 0.2103 - val_accuracy: 0.9136\n",
            "Epoch 14/1000\n",
            "2048/2048 [==============================] - 98s 48ms/step - loss: 0.2020 - accuracy: 0.9180 - val_loss: 0.2070 - val_accuracy: 0.9153\n",
            "Epoch 15/1000\n",
            "2048/2048 [==============================] - 98s 48ms/step - loss: 0.2000 - accuracy: 0.9187 - val_loss: 0.2073 - val_accuracy: 0.9152\n",
            "Epoch 16/1000\n",
            "2048/2048 [==============================] - 98s 48ms/step - loss: 0.1851 - accuracy: 0.9255 - val_loss: 0.2095 - val_accuracy: 0.9147\n",
            "Epoch 17/1000\n",
            "2048/2048 [==============================] - 98s 48ms/step - loss: 0.1809 - accuracy: 0.9276 - val_loss: 0.2053 - val_accuracy: 0.9163\n",
            "Epoch 18/1000\n",
            "2048/2048 [==============================] - 98s 48ms/step - loss: 0.1830 - accuracy: 0.9263 - val_loss: 0.2072 - val_accuracy: 0.9150\n",
            "Epoch 19/1000\n",
            "2048/2048 [==============================] - 98s 48ms/step - loss: 0.1842 - accuracy: 0.9259 - val_loss: 0.2055 - val_accuracy: 0.9166\n",
            "Epoch 20/1000\n",
            "2048/2048 [==============================] - 98s 48ms/step - loss: 0.1860 - accuracy: 0.9247 - val_loss: 0.2039 - val_accuracy: 0.9165\n",
            "Epoch 21/1000\n",
            "2048/2048 [==============================] - 99s 48ms/step - loss: 0.1844 - accuracy: 0.9259 - val_loss: 0.2029 - val_accuracy: 0.9172\n",
            "Epoch 22/1000\n",
            "2048/2048 [==============================] - 99s 48ms/step - loss: 0.1863 - accuracy: 0.9246 - val_loss: 0.2054 - val_accuracy: 0.9177\n",
            "Epoch 23/1000\n",
            "2048/2048 [==============================] - 98s 48ms/step - loss: 0.1824 - accuracy: 0.9261 - val_loss: 0.2099 - val_accuracy: 0.9167\n",
            "Epoch 24/1000\n",
            "2048/2048 [==============================] - 98s 48ms/step - loss: 0.1617 - accuracy: 0.9360 - val_loss: 0.2076 - val_accuracy: 0.9165\n",
            "Epoch 25/1000\n",
            "2048/2048 [==============================] - 98s 48ms/step - loss: 0.1655 - accuracy: 0.9346 - val_loss: 0.2066 - val_accuracy: 0.9172\n",
            "Epoch 26/1000\n",
            "2048/2048 [==============================] - 98s 48ms/step - loss: 0.1674 - accuracy: 0.9335 - val_loss: 0.2047 - val_accuracy: 0.9174\n",
            "Epoch 27/1000\n",
            "2048/2048 [==============================] - 98s 48ms/step - loss: 0.1672 - accuracy: 0.9332 - val_loss: 0.2048 - val_accuracy: 0.9170\n",
            "Epoch 28/1000\n",
            "2048/2048 [==============================] - 98s 48ms/step - loss: 0.1700 - accuracy: 0.9312 - val_loss: 0.2058 - val_accuracy: 0.9174\n",
            "Epoch 29/1000\n",
            "2048/2048 [==============================] - 98s 48ms/step - loss: 0.1703 - accuracy: 0.9318 - val_loss: 0.2052 - val_accuracy: 0.9175\n",
            "Epoch 30/1000\n",
            "2048/2048 [==============================] - 98s 48ms/step - loss: 0.1697 - accuracy: 0.9321 - val_loss: 0.2032 - val_accuracy: 0.9180\n",
            "Epoch 31/1000\n",
            "2048/2048 [==============================] - 98s 48ms/step - loss: 0.1584 - accuracy: 0.9374 - val_loss: 0.2167 - val_accuracy: 0.9166\n",
            "Epoch 32/1000\n",
            "2048/2048 [==============================] - 98s 48ms/step - loss: 0.1463 - accuracy: 0.9426 - val_loss: 0.2125 - val_accuracy: 0.9160\n",
            "Epoch 33/1000\n",
            "2048/2048 [==============================] - 98s 48ms/step - loss: 0.1492 - accuracy: 0.9412 - val_loss: 0.2143 - val_accuracy: 0.9168\n",
            "Epoch 34/1000\n",
            "2048/2048 [==============================] - 98s 48ms/step - loss: 0.1522 - accuracy: 0.9401 - val_loss: 0.2144 - val_accuracy: 0.9172\n",
            "Epoch 35/1000\n",
            "2048/2048 [==============================] - 98s 48ms/step - loss: 0.1543 - accuracy: 0.9387 - val_loss: 0.2096 - val_accuracy: 0.9164\n",
            "Epoch 36/1000\n",
            "2048/2048 [==============================] - 98s 48ms/step - loss: 0.1550 - accuracy: 0.9389 - val_loss: 0.2113 - val_accuracy: 0.9164\n"
          ]
        },
        {
          "output_type": "execute_result",
          "data": {
            "text/plain": [
              "<keras.callbacks.History at 0x7f747c6bf550>"
            ]
          },
          "metadata": {},
          "execution_count": 79
        }
      ]
    },
    {
      "cell_type": "code",
      "source": [
        "# Evaluate final model on test set\n",
        "loss, best_score = model.evaluate(test_padded, y_test)\n",
        "print(f\"Validation accuracy: {best_score}\")"
      ],
      "metadata": {
        "colab": {
          "base_uri": "https://localhost:8080/"
        },
        "id": "htFJlZtYgn-C",
        "outputId": "ae834256-2a5a-47d5-e9a0-f96433960cf6"
      },
      "execution_count": null,
      "outputs": [
        {
          "output_type": "stream",
          "name": "stdout",
          "text": [
            "7813/7813 [==============================] - 67s 9ms/step - loss: 0.2043 - accuracy: 0.9165\n",
            "Validation accuracy: 0.9165172576904297\n"
          ]
        }
      ]
    },
    {
      "cell_type": "markdown",
      "source": [
        "## Save the model"
      ],
      "metadata": {
        "id": "F5I_yj5thAsX"
      }
    },
    {
      "cell_type": "code",
      "source": [
        "# save the model\n",
        "model.save('Bi-LSTM.h5')"
      ],
      "metadata": {
        "id": "elnwzHthg6g-"
      },
      "execution_count": null,
      "outputs": []
    },
    {
      "cell_type": "markdown",
      "source": [
        "## Load the model and test for each group"
      ],
      "metadata": {
        "id": "qZ2C9Ep8g_gk"
      }
    },
    {
      "cell_type": "code",
      "source": [
        "max_len = 100\n",
        "Bi_LSTM = load_model('/content/drive/MyDrive/NLP/Bi-LSTM.h5')\n",
        "optimizer = Adam(learning_rate=0.001)\n",
        "Bi_LSTM.compile(loss='binary_crossentropy', optimizer=optimizer, metrics=['accuracy', get_f1, get_recall, get_precision])\n",
        "bi_lstm = []"
      ],
      "metadata": {
        "id": "Y7gxuy0Ig_gl"
      },
      "execution_count": null,
      "outputs": []
    },
    {
      "cell_type": "code",
      "source": [
        "# Group-1\n",
        "\n",
        "g1_test = tokenizer.texts_to_sequences(x1_test)\n",
        "g1_padded = sequence.pad_sequences(g1_test, padding='post', maxlen=max_len)\n",
        "loss, accuracy, f1, recall, precision = Bi_LSTM.evaluate(g1_padded, y1_test)\n",
        "print(\"Group-1\")\n",
        "print(f\"Loss: {loss}\")\n",
        "print(f\"Accuracy: {accuracy}\")\n",
        "print(f\"Recall: {recall}\")\n",
        "print(f\"Precision: {precision}\")\n",
        "print(f\"F1-score: {f1}\")\n",
        "bi_lstm.append(accuracy)"
      ],
      "metadata": {
        "colab": {
          "base_uri": "https://localhost:8080/"
        },
        "id": "CPkbkq8C0bbR",
        "outputId": "206e8154-9663-400f-b598-dbded8c9277d"
      },
      "execution_count": null,
      "outputs": [
        {
          "output_type": "stream",
          "name": "stdout",
          "text": [
            "1407/1407 [==============================] - 15s 9ms/step - loss: 0.2867 - accuracy: 0.8764 - get_f1: 1.7509 - get_recall: 86.7592 - get_precision: 0.8845\n",
            "Group-1\n",
            "Loss: 0.28673017024993896\n",
            "Accuracy: 0.8763548731803894\n",
            "Recall: 86.75917053222656\n",
            "Precision: 0.8844908475875854\n",
            "F1-score: 1.7508546113967896\n"
          ]
        }
      ]
    },
    {
      "cell_type": "code",
      "source": [
        "# Group-2\n",
        "\n",
        "g2_test = tokenizer.texts_to_sequences(x2_test)\n",
        "g2_padded = sequence.pad_sequences(g2_test, padding='post', maxlen=max_len)\n",
        "loss, accuracy, f1, recall, precision = Bi_LSTM.evaluate(g2_padded, y2_test)\n",
        "print(\"Group-2\")\n",
        "print(f\"Loss: {loss}\")\n",
        "print(f\"Accuracy: {accuracy}\")\n",
        "print(f\"Recall: {recall}\")\n",
        "print(f\"Precision: {precision}\")\n",
        "print(f\"F1-score: {f1}\")\n",
        "bi_lstm.append(accuracy)"
      ],
      "metadata": {
        "colab": {
          "base_uri": "https://localhost:8080/"
        },
        "outputId": "ab072cf4-d1c7-473d-8a90-8ebf9a256831",
        "id": "-SP1soOBg_gm"
      },
      "execution_count": null,
      "outputs": [
        {
          "output_type": "stream",
          "name": "stdout",
          "text": [
            "1407/1407 [==============================] - 13s 9ms/step - loss: 0.2323 - accuracy: 0.9011 - get_f1: 1.7991 - get_recall: 89.2928 - get_precision: 0.9088\n",
            "Group-2\n",
            "Loss: 0.23233242332935333\n",
            "Accuracy: 0.9010528922080994\n",
            "Recall: 89.29283905029297\n",
            "Precision: 0.9088422656059265\n",
            "F1-score: 1.799122929573059\n"
          ]
        }
      ]
    },
    {
      "cell_type": "code",
      "source": [
        "# Group-3\n",
        "\n",
        "g3_test = tokenizer.texts_to_sequences(x3_test)\n",
        "g3_padded = sequence.pad_sequences(g3_test, padding='post', maxlen=max_len)\n",
        "loss, accuracy, f1, recall, precision = Bi_LSTM.evaluate(g3_padded, y3_test)\n",
        "print(\"Group-3\")\n",
        "print(f\"Loss: {loss}\")\n",
        "print(f\"Accuracy: {accuracy}\")\n",
        "print(f\"Recall: {recall}\")\n",
        "print(f\"Precision: {precision}\")\n",
        "print(f\"F1-score: {f1}\")\n",
        "bi_lstm.append(accuracy)"
      ],
      "metadata": {
        "colab": {
          "base_uri": "https://localhost:8080/"
        },
        "outputId": "d05bc2ef-4781-4c75-bb3f-a05d447b9db0",
        "id": "7fm59Lvxg_gn"
      },
      "execution_count": null,
      "outputs": [
        {
          "output_type": "stream",
          "name": "stdout",
          "text": [
            "1407/1407 [==============================] - 12s 9ms/step - loss: 0.1725 - accuracy: 0.9336 - get_f1: 1.8485 - get_recall: 93.4625 - get_precision: 0.9336\n",
            "Group-3\n",
            "Loss: 0.17250226438045502\n",
            "Accuracy: 0.9336283206939697\n",
            "Recall: 93.46250915527344\n",
            "Precision: 0.9335668683052063\n",
            "F1-score: 1.8485151529312134\n"
          ]
        }
      ]
    },
    {
      "cell_type": "code",
      "source": [
        "# Group-4\n",
        "\n",
        "g4_test = tokenizer.texts_to_sequences(x4_test)\n",
        "g4_padded = sequence.pad_sequences(g4_test, padding='post', maxlen=max_len)\n",
        "loss, accuracy, f1, recall, precision = Bi_LSTM.evaluate(g4_padded, y4_test)\n",
        "print(\"Group-4\")\n",
        "print(f\"Loss: {loss}\")\n",
        "print(f\"Accuracy: {accuracy}\")\n",
        "print(f\"Recall: {recall}\")\n",
        "print(f\"Precision: {precision}\")\n",
        "print(f\"F1-score: {f1}\")\n",
        "bi_lstm.append(accuracy)"
      ],
      "metadata": {
        "colab": {
          "base_uri": "https://localhost:8080/"
        },
        "outputId": "7d0b797d-bb91-41ba-83c3-f894f1e33981",
        "id": "UiXh06ipg_gn"
      },
      "execution_count": null,
      "outputs": [
        {
          "output_type": "stream",
          "name": "stdout",
          "text": [
            "1407/1407 [==============================] - 13s 9ms/step - loss: 0.1654 - accuracy: 0.9349 - get_f1: 1.8545 - get_recall: 93.3763 - get_precision: 0.9366\n",
            "Group-4\n",
            "Loss: 0.16543422639369965\n",
            "Accuracy: 0.9349337816238403\n",
            "Recall: 93.37626647949219\n",
            "Precision: 0.9366396069526672\n",
            "F1-score: 1.854522943496704\n"
          ]
        }
      ]
    },
    {
      "cell_type": "code",
      "source": [
        "# Group-5\n",
        "\n",
        "g5_test = tokenizer.texts_to_sequences(x5_test)\n",
        "g5_padded = sequence.pad_sequences(g5_test, padding='post', maxlen=max_len)\n",
        "loss, accuracy, f1, recall, precision = Bi_LSTM.evaluate(g5_padded, y5_test)\n",
        "print(\"Group-5\")\n",
        "print(f\"Loss: {loss}\")\n",
        "print(f\"Accuracy: {accuracy}\")\n",
        "print(f\"Recall: {recall}\")\n",
        "print(f\"Precision: {precision}\")\n",
        "print(f\"F1-score: {f1}\")\n",
        "bi_lstm.append(accuracy)"
      ],
      "metadata": {
        "colab": {
          "base_uri": "https://localhost:8080/"
        },
        "outputId": "d38cb2a9-f66e-47f6-fc31-53509aad7aaa",
        "id": "CGJ9fH-Tg_gn"
      },
      "execution_count": null,
      "outputs": [
        {
          "output_type": "stream",
          "name": "stdout",
          "text": [
            "1407/1407 [==============================] - 12s 9ms/step - loss: 0.1641 - accuracy: 0.9361 - get_f1: 1.8601 - get_recall: 93.3668 - get_precision: 0.9395\n",
            "Group-5\n",
            "Loss: 0.16411162912845612\n",
            "Accuracy: 0.9360813498497009\n",
            "Recall: 93.36680603027344\n",
            "Precision: 0.9394614696502686\n",
            "F1-score: 1.860052466392517\n"
          ]
        }
      ]
    },
    {
      "cell_type": "markdown",
      "source": [
        "# Bi-LSTM with Attention"
      ],
      "metadata": {
        "id": "Kw_R1g29Ba_Y"
      }
    },
    {
      "cell_type": "markdown",
      "source": [
        "## Hyperparameter Tuning"
      ],
      "metadata": {
        "id": "FDZrJuexY_3P"
      }
    },
    {
      "cell_type": "code",
      "source": [
        "hyperparameters = {\n",
        "    'num_lstm_layers': [1, 2, 3],\n",
        "    'num_lstm_units': [32, 64, 128],\n",
        "    'learning_rate': [0.001, 0.01, 0.1],\n",
        "    'dropout_rate': [0.2, 0.3, 0.4]\n",
        "}\n",
        "\n",
        "param_grid = list(ParameterGrid(hyperparameters))"
      ],
      "metadata": {
        "id": "cBpOlkscY_3P"
      },
      "execution_count": null,
      "outputs": []
    },
    {
      "cell_type": "code",
      "source": [
        "class Attention(tf.keras.layers.Layer):\n",
        "  def __init__(self, units):\n",
        "    super(Attention, self).__init__()\n",
        "    self.W1 = tf.keras.layers.Dense(units)\n",
        "    self.W2 = tf.keras.layers.Dense(units)\n",
        "    self.V = tf.keras.layers.Dense(1)\n",
        "\n",
        "  def call(self,  features, hidden, mask=None):\n",
        "    hidden_with_time_axis = tf.expand_dims(hidden, 1)\n",
        "    score = tf.nn.tanh(self.W1(features) + self.W2(hidden_with_time_axis))\n",
        "\n",
        "    attention_weights = tf.nn.softmax(self.V(score), axis=1)\n",
        "    if mask is not None:\n",
        "      attention_weights *= mask\n",
        "      attention_weights = tf.nn.softmax(attention_weights, axis=1)\n",
        "    context_vector = attention_weights * features\n",
        "    context_vector = tf.reduce_sum(context_vector, axis=1)\n",
        "\n",
        "    return context_vector, attention_weights\n",
        "\n",
        "  def compute_output_shape(self,input_shape):\n",
        "    return (input_shape[0],input_shape[-1])\n",
        "\n",
        "  def get_config(self):\n",
        "    return super(Attention,self).get_config()"
      ],
      "metadata": {
        "id": "kzXeLa5EY_3P"
      },
      "execution_count": null,
      "outputs": []
    },
    {
      "cell_type": "code",
      "source": [
        "def create_model(max_len, num_lstm_layers, num_lstm_units, num_dense_units, learning_rate, dropout_rate):\n",
        "    model = Sequential()\n",
        "    model.add(Embedding(20000, 128, input_length=max_len))\n",
        "    for i in range(num_lstm_layers):\n",
        "        model.add(Bidirectional(LSTM(num_lstm_units, return_sequences=True)))\n",
        "        model.add(Dropout(dropout_rate))\n",
        "    model.add(attention(max_len))\n",
        "    model.add(Dense(num_dense_units, activation='relu'))\n",
        "    model.add(Dropout(dropout_rate))\n",
        "    model.add(Dense(1, activation='sigmoid'))\n",
        "    optimizer = Adam(learning_rate=learning_rate)\n",
        "    model.compile(loss='binary_crossentropy', optimizer=optimizer, metrics=['accuracy'])\n",
        "    return model"
      ],
      "metadata": {
        "id": "rAylPCKSY_3P"
      },
      "execution_count": null,
      "outputs": []
    },
    {
      "cell_type": "code",
      "source": [
        "# Perform grid search\n",
        "best_params = None\n",
        "best_score = 0\n",
        "for params in param_grid:\n",
        "    model = create_model(**params)\n",
        "    model.fit(train_padded, y_train,batch_size=128,epochs=10, validation_data=(test_padded,y_test),callbacks=[EarlyStopping(monitor='val_loss',min_delta=0.00001,patience=10)],steps_per_epoch=2048)\n",
        "    loss, score = model.evaluate(test_padded, y_test)\n",
        "    print(f\"params: {params}, score: {score}\")\n",
        "\n",
        "    # Save best hyperparameters\n",
        "    if score > best_score:\n",
        "        best_score = score\n",
        "        best_params = params"
      ],
      "metadata": {
        "id": "QfuIdCJiY_3P"
      },
      "execution_count": null,
      "outputs": []
    },
    {
      "cell_type": "code",
      "source": [
        "print(\"Best Parameters\")\n",
        "print(best_params)"
      ],
      "metadata": {
        "id": "_WV2BGr7Y_3P"
      },
      "execution_count": null,
      "outputs": []
    },
    {
      "cell_type": "code",
      "source": [
        "def bi_lstm_attention_model():\n",
        "  sequence_input = Input(shape=(max_len,), dtype=\"int32\")\n",
        "  embedded_sequences = Embedding(max_word, 128)(sequence_input)\n",
        "\n",
        "  # First Bidirectional LSTM layer\n",
        "  lstm_1 = Bidirectional(LSTM(128, return_sequences=True, return_state=True), name=\"bi_lstm_1\")(embedded_sequences)\n",
        "  (forward_h1, forward_c1, backward_h1, backward_c1) = lstm_1[1:]\n",
        "\n",
        "  # Second Bidirectional LSTM layer\n",
        "  lstm_2 = Bidirectional(LSTM(128, return_sequences=True, return_state=True), name=\"bi_lstm_2\")(lstm_1[0])\n",
        "  (forward_h2, forward_c2, backward_h2, backward_c2) = lstm_2[1:]\n",
        "\n",
        "  # Concatenate forward and backward hidden states\n",
        "  state_h = Concatenate()([forward_h2, backward_h2])\n",
        "  state_c = Concatenate()([forward_c2, backward_c2])\n",
        "\n",
        "  # Attention mechanism\n",
        "  context_vector, attention_weights = Attention(128)(lstm_2[0], state_h)\n",
        "\n",
        "  # Dense layers\n",
        "  dense1 = Dense(128, activation=\"relu\")(context_vector)\n",
        "  dropout = Dropout(0.2)(dense1)\n",
        "  output = Dense(1, activation=\"sigmoid\")(dropout)\n",
        "\n",
        "  model = tf.keras.Model(inputs=sequence_input, outputs=output)\n",
        "  optimizer = Adam(learning_rate=0.001)\n",
        "  model.compile(loss='binary_crossentropy', optimizer=optimizer, metrics=['accuracy', get_f1, get_recall, get_precision])\n",
        "  return model"
      ],
      "metadata": {
        "id": "26lGdN-eY_3Q"
      },
      "execution_count": null,
      "outputs": []
    },
    {
      "cell_type": "code",
      "source": [
        "model = bi_lstm_attention_model()\n",
        "model.summary()\n",
        "model.fit(train_padded, y_train ,batch_size=128,epochs=1000, validation_data=(test_padded,y_test),callbacks=[EarlyStopping(monitor='val_loss',min_delta=0.00001,patience=15)],steps_per_epoch=2048)\n",
        "\n"
      ],
      "metadata": {
        "colab": {
          "base_uri": "https://localhost:8080/"
        },
        "outputId": "0478ef52-9473-4e50-8ac9-657662cf64cf",
        "id": "wxwtSlbjY_3Q"
      },
      "execution_count": null,
      "outputs": [
        {
          "output_type": "stream",
          "name": "stdout",
          "text": [
            "Model: \"model_1\"\n",
            "__________________________________________________________________________________________________\n",
            " Layer (type)                   Output Shape         Param #     Connected to                     \n",
            "==================================================================================================\n",
            " input_2 (InputLayer)           [(None, 100)]        0           []                               \n",
            "                                                                                                  \n",
            " embedding_1 (Embedding)        (None, 100, 128)     2560000     ['input_2[0][0]']                \n",
            "                                                                                                  \n",
            " bi_lstm_1 (Bidirectional)      [(None, 100, 256),   263168      ['embedding_1[0][0]']            \n",
            "                                 (None, 128),                                                     \n",
            "                                 (None, 128),                                                     \n",
            "                                 (None, 128),                                                     \n",
            "                                 (None, 128)]                                                     \n",
            "                                                                                                  \n",
            " bi_lstm_2 (Bidirectional)      [(None, 100, 256),   394240      ['bi_lstm_1[0][0]']              \n",
            "                                 (None, 128),                                                     \n",
            "                                 (None, 128),                                                     \n",
            "                                 (None, 128),                                                     \n",
            "                                 (None, 128)]                                                     \n",
            "                                                                                                  \n",
            " concatenate_2 (Concatenate)    (None, 256)          0           ['bi_lstm_2[0][1]',              \n",
            "                                                                  'bi_lstm_2[0][3]']              \n",
            "                                                                                                  \n",
            " attention_1 (Attention)        ((None, 256),        65921       ['bi_lstm_2[0][0]',              \n",
            "                                 (None, 100, 1))                  'concatenate_2[0][0]']          \n",
            "                                                                                                  \n",
            " dense_8 (Dense)                (None, 128)          32896       ['attention_1[0][0]']            \n",
            "                                                                                                  \n",
            " dropout_1 (Dropout)            (None, 128)          0           ['dense_8[0][0]']                \n",
            "                                                                                                  \n",
            " dense_9 (Dense)                (None, 1)            129         ['dropout_1[0][0]']              \n",
            "                                                                                                  \n",
            "==================================================================================================\n",
            "Total params: 3,316,354\n",
            "Trainable params: 3,316,354\n",
            "Non-trainable params: 0\n",
            "__________________________________________________________________________________________________\n",
            "Epoch 1/1000\n",
            "2048/2048 [==============================] - 168s 78ms/step - loss: 0.3224 - accuracy: 0.8575 - get_f1: 0.8511 - get_recall: 0.8431 - get_precision: 0.8651 - val_loss: 0.2720 - val_accuracy: 0.8851 - val_get_f1: 0.8875 - val_get_recall: 0.9069 - val_get_precision: 0.8704\n",
            "Epoch 2/1000\n",
            "2048/2048 [==============================] - 106s 52ms/step - loss: 0.2558 - accuracy: 0.8926 - get_f1: 0.8906 - get_recall: 0.8837 - get_precision: 0.8997 - val_loss: 0.2501 - val_accuracy: 0.8973 - val_get_f1: 0.8969 - val_get_recall: 0.8960 - val_get_precision: 0.8994\n",
            "Epoch 3/1000\n",
            "2048/2048 [==============================] - 105s 51ms/step - loss: 0.2418 - accuracy: 0.8994 - get_f1: 0.8974 - get_recall: 0.8895 - get_precision: 0.9072 - val_loss: 0.2337 - val_accuracy: 0.9022 - val_get_f1: 0.9026 - val_get_recall: 0.9075 - val_get_precision: 0.8992\n",
            "Epoch 4/1000\n",
            "2048/2048 [==============================] - 104s 51ms/step - loss: 0.2306 - accuracy: 0.9050 - get_f1: 0.9037 - get_recall: 0.8977 - get_precision: 0.9116 - val_loss: 0.2272 - val_accuracy: 0.9051 - val_get_f1: 0.9037 - val_get_recall: 0.8904 - val_get_precision: 0.9187\n",
            "Epoch 5/1000\n",
            "2048/2048 [==============================] - 102s 50ms/step - loss: 0.2230 - accuracy: 0.9082 - get_f1: 0.9069 - get_recall: 0.9006 - get_precision: 0.9148 - val_loss: 0.2200 - val_accuracy: 0.9080 - val_get_f1: 0.9072 - val_get_recall: 0.9026 - val_get_precision: 0.9134\n",
            "Epoch 6/1000\n",
            "2048/2048 [==============================] - 103s 50ms/step - loss: 0.2205 - accuracy: 0.9089 - get_f1: 0.9073 - get_recall: 0.8995 - get_precision: 0.9167 - val_loss: 0.2164 - val_accuracy: 0.9101 - val_get_f1: 0.9105 - val_get_recall: 0.9146 - val_get_precision: 0.9078\n",
            "Epoch 7/1000\n",
            "2048/2048 [==============================] - 103s 50ms/step - loss: 0.2136 - accuracy: 0.9121 - get_f1: 0.9109 - get_recall: 0.9042 - get_precision: 0.9191 - val_loss: 0.2197 - val_accuracy: 0.9094 - val_get_f1: 0.9104 - val_get_recall: 0.9242 - val_get_precision: 0.8985\n",
            "Epoch 8/1000\n",
            "2048/2048 [==============================] - 103s 50ms/step - loss: 0.2078 - accuracy: 0.9147 - get_f1: 0.9131 - get_recall: 0.9070 - get_precision: 0.9207 - val_loss: 0.2097 - val_accuracy: 0.9136 - val_get_f1: 0.9133 - val_get_recall: 0.9085 - val_get_precision: 0.9194\n",
            "Epoch 9/1000\n",
            "2048/2048 [==============================] - 104s 51ms/step - loss: 0.1948 - accuracy: 0.9206 - get_f1: 0.9191 - get_recall: 0.9130 - get_precision: 0.9267 - val_loss: 0.2092 - val_accuracy: 0.9142 - val_get_f1: 0.9130 - val_get_recall: 0.9027 - val_get_precision: 0.9249\n",
            "Epoch 10/1000\n",
            "2048/2048 [==============================] - 103s 50ms/step - loss: 0.1948 - accuracy: 0.9212 - get_f1: 0.9200 - get_recall: 0.9135 - get_precision: 0.9279 - val_loss: 0.2097 - val_accuracy: 0.9147 - val_get_f1: 0.9149 - val_get_recall: 0.9169 - val_get_precision: 0.9140\n",
            "Epoch 11/1000\n",
            "2048/2048 [==============================] - 103s 50ms/step - loss: 0.1973 - accuracy: 0.9195 - get_f1: 0.9185 - get_recall: 0.9132 - get_precision: 0.9251 - val_loss: 0.2067 - val_accuracy: 0.9153 - val_get_f1: 0.9138 - val_get_recall: 0.8990 - val_get_precision: 0.9304\n",
            "Epoch 12/1000\n",
            "2048/2048 [==============================] - 102s 50ms/step - loss: 0.1962 - accuracy: 0.9207 - get_f1: 0.9194 - get_recall: 0.9131 - get_precision: 0.9272 - val_loss: 0.2042 - val_accuracy: 0.9166 - val_get_f1: 0.9158 - val_get_recall: 0.9075 - val_get_precision: 0.9255\n",
            "Epoch 13/1000\n",
            "2048/2048 [==============================] - 102s 50ms/step - loss: 0.1945 - accuracy: 0.9208 - get_f1: 0.9196 - get_recall: 0.9136 - get_precision: 0.9269 - val_loss: 0.2026 - val_accuracy: 0.9172 - val_get_f1: 0.9175 - val_get_recall: 0.9198 - val_get_precision: 0.9163\n",
            "Epoch 14/1000\n",
            "2048/2048 [==============================] - 103s 50ms/step - loss: 0.1924 - accuracy: 0.9216 - get_f1: 0.9199 - get_recall: 0.9134 - get_precision: 0.9278 - val_loss: 0.2000 - val_accuracy: 0.9181 - val_get_f1: 0.9173 - val_get_recall: 0.9108 - val_get_precision: 0.9251\n",
            "Epoch 15/1000\n",
            "2048/2048 [==============================] - 103s 50ms/step - loss: 0.1929 - accuracy: 0.9217 - get_f1: 0.9206 - get_recall: 0.9143 - get_precision: 0.9282 - val_loss: 0.2002 - val_accuracy: 0.9189 - val_get_f1: 0.9195 - val_get_recall: 0.9240 - val_get_precision: 0.9161\n",
            "Epoch 16/1000\n",
            "2048/2048 [==============================] - 103s 50ms/step - loss: 0.1795 - accuracy: 0.9280 - get_f1: 0.9269 - get_recall: 0.9212 - get_precision: 0.9338 - val_loss: 0.2031 - val_accuracy: 0.9174 - val_get_f1: 0.9160 - val_get_recall: 0.9018 - val_get_precision: 0.9320\n",
            "Epoch 17/1000\n",
            "2048/2048 [==============================] - 102s 50ms/step - loss: 0.1691 - accuracy: 0.9328 - get_f1: 0.9318 - get_recall: 0.9265 - get_precision: 0.9383 - val_loss: 0.2020 - val_accuracy: 0.9167 - val_get_f1: 0.9146 - val_get_recall: 0.8945 - val_get_precision: 0.9371\n",
            "Epoch 18/1000\n",
            "2048/2048 [==============================] - 103s 50ms/step - loss: 0.1724 - accuracy: 0.9315 - get_f1: 0.9304 - get_recall: 0.9253 - get_precision: 0.9369 - val_loss: 0.2021 - val_accuracy: 0.9184 - val_get_f1: 0.9184 - val_get_recall: 0.9167 - val_get_precision: 0.9213\n",
            "Epoch 19/1000\n",
            "2048/2048 [==============================] - 102s 50ms/step - loss: 0.1758 - accuracy: 0.9297 - get_f1: 0.9286 - get_recall: 0.9227 - get_precision: 0.9357 - val_loss: 0.1989 - val_accuracy: 0.9188 - val_get_f1: 0.9175 - val_get_recall: 0.9050 - val_get_precision: 0.9316\n",
            "Epoch 20/1000\n",
            "2048/2048 [==============================] - 103s 50ms/step - loss: 0.1749 - accuracy: 0.9297 - get_f1: 0.9288 - get_recall: 0.9233 - get_precision: 0.9354 - val_loss: 0.1985 - val_accuracy: 0.9194 - val_get_f1: 0.9184 - val_get_recall: 0.9062 - val_get_precision: 0.9321\n",
            "Epoch 21/1000\n",
            "2048/2048 [==============================] - 102s 50ms/step - loss: 0.1752 - accuracy: 0.9296 - get_f1: 0.9282 - get_recall: 0.9218 - get_precision: 0.9358 - val_loss: 0.1998 - val_accuracy: 0.9183 - val_get_f1: 0.9163 - val_get_recall: 0.8962 - val_get_precision: 0.9386\n",
            "Epoch 22/1000\n",
            "2048/2048 [==============================] - 102s 50ms/step - loss: 0.1766 - accuracy: 0.9290 - get_f1: 0.9280 - get_recall: 0.9219 - get_precision: 0.9353 - val_loss: 0.1989 - val_accuracy: 0.9187 - val_get_f1: 0.9184 - val_get_recall: 0.9186 - val_get_precision: 0.9196\n",
            "Epoch 23/1000\n",
            "2048/2048 [==============================] - 102s 50ms/step - loss: 0.1762 - accuracy: 0.9292 - get_f1: 0.9281 - get_recall: 0.9228 - get_precision: 0.9347 - val_loss: 0.1954 - val_accuracy: 0.9201 - val_get_f1: 0.9195 - val_get_recall: 0.9156 - val_get_precision: 0.9248\n",
            "Epoch 24/1000\n",
            "2048/2048 [==============================] - 103s 50ms/step - loss: 0.1540 - accuracy: 0.9392 - get_f1: 0.9385 - get_recall: 0.9348 - get_precision: 0.9433 - val_loss: 0.2062 - val_accuracy: 0.9184 - val_get_f1: 0.9177 - val_get_recall: 0.9085 - val_get_precision: 0.9283\n",
            "Epoch 25/1000\n",
            "2048/2048 [==============================] - 102s 50ms/step - loss: 0.1511 - accuracy: 0.9407 - get_f1: 0.9397 - get_recall: 0.9355 - get_precision: 0.9448 - val_loss: 0.2056 - val_accuracy: 0.9186 - val_get_f1: 0.9178 - val_get_recall: 0.9097 - val_get_precision: 0.9273\n",
            "Epoch 26/1000\n",
            "2048/2048 [==============================] - 102s 50ms/step - loss: 0.1548 - accuracy: 0.9389 - get_f1: 0.9381 - get_recall: 0.9331 - get_precision: 0.9441 - val_loss: 0.2048 - val_accuracy: 0.9189 - val_get_f1: 0.9174 - val_get_recall: 0.9037 - val_get_precision: 0.9330\n",
            "Epoch 27/1000\n",
            "2048/2048 [==============================] - 102s 50ms/step - loss: 0.1557 - accuracy: 0.9382 - get_f1: 0.9375 - get_recall: 0.9327 - get_precision: 0.9434 - val_loss: 0.1990 - val_accuracy: 0.9198 - val_get_f1: 0.9192 - val_get_recall: 0.9137 - val_get_precision: 0.9261\n",
            "Epoch 28/1000\n",
            "2048/2048 [==============================] - 102s 50ms/step - loss: 0.1587 - accuracy: 0.9371 - get_f1: 0.9363 - get_recall: 0.9313 - get_precision: 0.9423 - val_loss: 0.2014 - val_accuracy: 0.9197 - val_get_f1: 0.9186 - val_get_recall: 0.9078 - val_get_precision: 0.9310\n",
            "Epoch 29/1000\n",
            "2048/2048 [==============================] - 102s 50ms/step - loss: 0.1609 - accuracy: 0.9362 - get_f1: 0.9352 - get_recall: 0.9301 - get_precision: 0.9414 - val_loss: 0.2007 - val_accuracy: 0.9195 - val_get_f1: 0.9185 - val_get_recall: 0.9081 - val_get_precision: 0.9304\n",
            "Epoch 30/1000\n",
            "2048/2048 [==============================] - 102s 50ms/step - loss: 0.1617 - accuracy: 0.9357 - get_f1: 0.9348 - get_recall: 0.9300 - get_precision: 0.9408 - val_loss: 0.1985 - val_accuracy: 0.9199 - val_get_f1: 0.9194 - val_get_recall: 0.9141 - val_get_precision: 0.9259\n",
            "Epoch 31/1000\n",
            "2048/2048 [==============================] - 102s 50ms/step - loss: 0.1568 - accuracy: 0.9378 - get_f1: 0.9370 - get_recall: 0.9326 - get_precision: 0.9423 - val_loss: 0.2221 - val_accuracy: 0.9182 - val_get_f1: 0.9184 - val_get_recall: 0.9231 - val_get_precision: 0.9150\n",
            "Epoch 32/1000\n",
            "2048/2048 [==============================] - 102s 50ms/step - loss: 0.1301 - accuracy: 0.9498 - get_f1: 0.9492 - get_recall: 0.9457 - get_precision: 0.9536 - val_loss: 0.2182 - val_accuracy: 0.9190 - val_get_f1: 0.9185 - val_get_recall: 0.9118 - val_get_precision: 0.9264\n",
            "Epoch 33/1000\n",
            "2048/2048 [==============================] - 102s 50ms/step - loss: 0.1344 - accuracy: 0.9476 - get_f1: 0.9470 - get_recall: 0.9429 - get_precision: 0.9521 - val_loss: 0.2216 - val_accuracy: 0.9179 - val_get_f1: 0.9174 - val_get_recall: 0.9118 - val_get_precision: 0.9242\n",
            "Epoch 34/1000\n",
            "2048/2048 [==============================] - 103s 50ms/step - loss: 0.1380 - accuracy: 0.9458 - get_f1: 0.9449 - get_recall: 0.9401 - get_precision: 0.9507 - val_loss: 0.2118 - val_accuracy: 0.9179 - val_get_f1: 0.9174 - val_get_recall: 0.9126 - val_get_precision: 0.9235\n",
            "Epoch 35/1000\n",
            "2048/2048 [==============================] - 102s 50ms/step - loss: 0.1394 - accuracy: 0.9455 - get_f1: 0.9448 - get_recall: 0.9409 - get_precision: 0.9497 - val_loss: 0.2164 - val_accuracy: 0.9180 - val_get_f1: 0.9180 - val_get_recall: 0.9179 - val_get_precision: 0.9193\n",
            "Epoch 36/1000\n",
            "2048/2048 [==============================] - 102s 50ms/step - loss: 0.1450 - accuracy: 0.9432 - get_f1: 0.9426 - get_recall: 0.9387 - get_precision: 0.9474 - val_loss: 0.2096 - val_accuracy: 0.9183 - val_get_f1: 0.9178 - val_get_recall: 0.9118 - val_get_precision: 0.9250\n",
            "Epoch 37/1000\n",
            "2048/2048 [==============================] - 102s 50ms/step - loss: 0.1432 - accuracy: 0.9440 - get_f1: 0.9432 - get_recall: 0.9387 - get_precision: 0.9487 - val_loss: 0.2066 - val_accuracy: 0.9185 - val_get_f1: 0.9182 - val_get_recall: 0.9144 - val_get_precision: 0.9233\n",
            "Epoch 38/1000\n",
            "2048/2048 [==============================] - 102s 50ms/step - loss: 0.1459 - accuracy: 0.9426 - get_f1: 0.9419 - get_recall: 0.9383 - get_precision: 0.9464 - val_loss: 0.2089 - val_accuracy: 0.9188 - val_get_f1: 0.9187 - val_get_recall: 0.9190 - val_get_precision: 0.9197\n"
          ]
        },
        {
          "output_type": "execute_result",
          "data": {
            "text/plain": [
              "<keras.callbacks.History at 0x7f8ed04656a0>"
            ]
          },
          "metadata": {},
          "execution_count": 29
        }
      ]
    },
    {
      "cell_type": "code",
      "source": [
        "# Evaluate final model on test set\n",
        "loss, best_score, f1, recall, precision= model.evaluate(test_padded, y_test)\n",
        "print(f\"Validation accuracy: {best_score}\")"
      ],
      "metadata": {
        "colab": {
          "base_uri": "https://localhost:8080/"
        },
        "id": "WxMf6IoWY_3Q",
        "outputId": "db201e42-a834-42d0-cebf-356e053ad987"
      },
      "execution_count": null,
      "outputs": [
        {
          "output_type": "stream",
          "name": "stdout",
          "text": [
            "7032/7032 [==============================] - 68s 10ms/step - loss: 0.2089 - accuracy: 0.9188 - get_f1: 0.9168 - get_recall: 0.9188 - get_precision: 0.9197\n",
            "Validation accuracy: 0.9188133478164673\n"
          ]
        }
      ]
    },
    {
      "cell_type": "markdown",
      "source": [
        "## Saving the model"
      ],
      "metadata": {
        "id": "ddjUanaBY_3Q"
      }
    },
    {
      "cell_type": "code",
      "source": [
        "model.save_weights('Bi-LSTM_att_weights.h5')"
      ],
      "metadata": {
        "id": "VPFUD9sBY_3Q"
      },
      "execution_count": null,
      "outputs": []
    },
    {
      "cell_type": "markdown",
      "source": [
        "## Load the model and test for each group"
      ],
      "metadata": {
        "id": "oir7_BSXY_3Q"
      }
    },
    {
      "cell_type": "code",
      "source": [
        "Bi_LSTM_Att = []\n",
        "Bi_LSTM_att = bi_lstm_attention_model()\n",
        "Bi_LSTM_att.load_weights(\"/content/drive/MyDrive/NLP/Bi-LSTM_att_weights.h5\")"
      ],
      "metadata": {
        "id": "JPTP-UhdY_3R",
        "colab": {
          "base_uri": "https://localhost:8080/",
          "height": 354
        },
        "outputId": "cb24e471-9c28-41d6-b9da-85a5c5dd9bd3"
      },
      "execution_count": null,
      "outputs": [
        {
          "output_type": "error",
          "ename": "TypeError",
          "evalue": "ignored",
          "traceback": [
            "\u001b[0;31m---------------------------------------------------------------------------\u001b[0m",
            "\u001b[0;31mTypeError\u001b[0m                                 Traceback (most recent call last)",
            "\u001b[0;32m<ipython-input-50-1acccb792a38>\u001b[0m in \u001b[0;36m<cell line: 2>\u001b[0;34m()\u001b[0m\n\u001b[1;32m      1\u001b[0m \u001b[0mBi_LSTM_Att\u001b[0m \u001b[0;34m=\u001b[0m \u001b[0;34m[\u001b[0m\u001b[0;34m]\u001b[0m\u001b[0;34m\u001b[0m\u001b[0;34m\u001b[0m\u001b[0m\n\u001b[0;32m----> 2\u001b[0;31m \u001b[0mBi_LSTM_att\u001b[0m \u001b[0;34m=\u001b[0m \u001b[0mbi_lstm_attention_model\u001b[0m\u001b[0;34m(\u001b[0m\u001b[0;34m)\u001b[0m\u001b[0;34m\u001b[0m\u001b[0;34m\u001b[0m\u001b[0m\n\u001b[0m\u001b[1;32m      3\u001b[0m \u001b[0mBi_LSTM_att\u001b[0m\u001b[0;34m.\u001b[0m\u001b[0mload_weights\u001b[0m\u001b[0;34m(\u001b[0m\u001b[0;34m\"/content/drive/MyDrive/NLP/Bi-LSTM_att_weights.h5\"\u001b[0m\u001b[0;34m)\u001b[0m\u001b[0;34m\u001b[0m\u001b[0;34m\u001b[0m\u001b[0m\n",
            "\u001b[0;32m<ipython-input-49-d929a787dabd>\u001b[0m in \u001b[0;36mbi_lstm_attention_model\u001b[0;34m()\u001b[0m\n\u001b[1;32m      4\u001b[0m \u001b[0;34m\u001b[0m\u001b[0m\n\u001b[1;32m      5\u001b[0m   \u001b[0;31m# First Bidirectional LSTM layer\u001b[0m\u001b[0;34m\u001b[0m\u001b[0;34m\u001b[0m\u001b[0m\n\u001b[0;32m----> 6\u001b[0;31m   \u001b[0mlstm_1\u001b[0m \u001b[0;34m=\u001b[0m \u001b[0mBidirectional\u001b[0m\u001b[0;34m(\u001b[0m\u001b[0mLSTM\u001b[0m\u001b[0;34m(\u001b[0m\u001b[0;36m128\u001b[0m\u001b[0;34m,\u001b[0m \u001b[0mreturn_state\u001b[0m\u001b[0;34m=\u001b[0m\u001b[0;32mTrue\u001b[0m\u001b[0;34m)\u001b[0m\u001b[0;34m,\u001b[0m \u001b[0mname\u001b[0m\u001b[0;34m=\u001b[0m\u001b[0;34m\"bi_lstm_1\"\u001b[0m\u001b[0;34m)\u001b[0m\u001b[0;34m(\u001b[0m\u001b[0membedded_sequences\u001b[0m\u001b[0;34m)\u001b[0m\u001b[0;34m\u001b[0m\u001b[0;34m\u001b[0m\u001b[0m\n\u001b[0m\u001b[1;32m      7\u001b[0m   \u001b[0;34m(\u001b[0m\u001b[0mforward_h1\u001b[0m\u001b[0;34m,\u001b[0m \u001b[0mforward_c1\u001b[0m\u001b[0;34m,\u001b[0m \u001b[0mbackward_h1\u001b[0m\u001b[0;34m,\u001b[0m \u001b[0mbackward_c1\u001b[0m\u001b[0;34m)\u001b[0m \u001b[0;34m=\u001b[0m \u001b[0mlstm_1\u001b[0m\u001b[0;34m[\u001b[0m\u001b[0;36m1\u001b[0m\u001b[0;34m:\u001b[0m\u001b[0;34m]\u001b[0m\u001b[0;34m\u001b[0m\u001b[0;34m\u001b[0m\u001b[0m\n\u001b[1;32m      8\u001b[0m \u001b[0;34m\u001b[0m\u001b[0m\n",
            "\u001b[0;32m/usr/local/lib/python3.9/dist-packages/keras/utils/traceback_utils.py\u001b[0m in \u001b[0;36merror_handler\u001b[0;34m(*args, **kwargs)\u001b[0m\n\u001b[1;32m     68\u001b[0m             \u001b[0;31m# To get the full stack trace, call:\u001b[0m\u001b[0;34m\u001b[0m\u001b[0;34m\u001b[0m\u001b[0m\n\u001b[1;32m     69\u001b[0m             \u001b[0;31m# `tf.debugging.disable_traceback_filtering()`\u001b[0m\u001b[0;34m\u001b[0m\u001b[0;34m\u001b[0m\u001b[0m\n\u001b[0;32m---> 70\u001b[0;31m             \u001b[0;32mraise\u001b[0m \u001b[0me\u001b[0m\u001b[0;34m.\u001b[0m\u001b[0mwith_traceback\u001b[0m\u001b[0;34m(\u001b[0m\u001b[0mfiltered_tb\u001b[0m\u001b[0;34m)\u001b[0m \u001b[0;32mfrom\u001b[0m \u001b[0;32mNone\u001b[0m\u001b[0;34m\u001b[0m\u001b[0;34m\u001b[0m\u001b[0m\n\u001b[0m\u001b[1;32m     71\u001b[0m         \u001b[0;32mfinally\u001b[0m\u001b[0;34m:\u001b[0m\u001b[0;34m\u001b[0m\u001b[0;34m\u001b[0m\u001b[0m\n\u001b[1;32m     72\u001b[0m             \u001b[0;32mdel\u001b[0m \u001b[0mfiltered_tb\u001b[0m\u001b[0;34m\u001b[0m\u001b[0;34m\u001b[0m\u001b[0m\n",
            "\u001b[0;32m/usr/local/lib/python3.9/dist-packages/keras/utils/traceback_utils.py\u001b[0m in \u001b[0;36merror_handler\u001b[0;34m(*args, **kwargs)\u001b[0m\n\u001b[1;32m     94\u001b[0m         \u001b[0mbound_signature\u001b[0m \u001b[0;34m=\u001b[0m \u001b[0;32mNone\u001b[0m\u001b[0;34m\u001b[0m\u001b[0;34m\u001b[0m\u001b[0m\n\u001b[1;32m     95\u001b[0m         \u001b[0;32mtry\u001b[0m\u001b[0;34m:\u001b[0m\u001b[0;34m\u001b[0m\u001b[0;34m\u001b[0m\u001b[0m\n\u001b[0;32m---> 96\u001b[0;31m             \u001b[0;32mreturn\u001b[0m \u001b[0mfn\u001b[0m\u001b[0;34m(\u001b[0m\u001b[0;34m*\u001b[0m\u001b[0margs\u001b[0m\u001b[0;34m,\u001b[0m \u001b[0;34m**\u001b[0m\u001b[0mkwargs\u001b[0m\u001b[0;34m)\u001b[0m\u001b[0;34m\u001b[0m\u001b[0;34m\u001b[0m\u001b[0m\n\u001b[0m\u001b[1;32m     97\u001b[0m         \u001b[0;32mexcept\u001b[0m \u001b[0mException\u001b[0m \u001b[0;32mas\u001b[0m \u001b[0me\u001b[0m\u001b[0;34m:\u001b[0m\u001b[0;34m\u001b[0m\u001b[0;34m\u001b[0m\u001b[0m\n\u001b[1;32m     98\u001b[0m             \u001b[0;32mif\u001b[0m \u001b[0mhasattr\u001b[0m\u001b[0;34m(\u001b[0m\u001b[0me\u001b[0m\u001b[0;34m,\u001b[0m \u001b[0;34m\"_keras_call_info_injected\"\u001b[0m\u001b[0;34m)\u001b[0m\u001b[0;34m:\u001b[0m\u001b[0;34m\u001b[0m\u001b[0;34m\u001b[0m\u001b[0m\n",
            "\u001b[0;31mTypeError\u001b[0m: call() got an unexpected keyword argument 'return_state'"
          ]
        }
      ]
    },
    {
      "cell_type": "code",
      "source": [
        "# Group-1\n",
        "\n",
        "g1_test = tokenizer.texts_to_sequences(x1_test)\n",
        "g1_padded = sequence.pad_sequences(g1_test, padding='post', maxlen=max_len)\n",
        "loss, accuracy, f1, recall, precision = Bi_LSTM_att.evaluate(g1_padded, y1_test)\n",
        "print(\"Group-1\")\n",
        "print(f\"Loss: {loss}\")\n",
        "print(f\"Accuracy: {accuracy}\")\n",
        "print(f\"Recall: {recall}\")\n",
        "print(f\"Precision: {precision}\")\n",
        "print(f\"F1-score: {f1}\")\n",
        "Bi_LSTM_Att.append(accuracy)"
      ],
      "metadata": {
        "colab": {
          "base_uri": "https://localhost:8080/",
          "height": 241
        },
        "id": "BNKK_PGadwBS",
        "outputId": "9b3876e9-98c4-4930-ffea-827ddbe9e2d3"
      },
      "execution_count": null,
      "outputs": [
        {
          "output_type": "error",
          "ename": "NameError",
          "evalue": "ignored",
          "traceback": [
            "\u001b[0;31m---------------------------------------------------------------------------\u001b[0m",
            "\u001b[0;31mNameError\u001b[0m                                 Traceback (most recent call last)",
            "\u001b[0;32m<ipython-input-44-7e5373f7fdeb>\u001b[0m in \u001b[0;36m<cell line: 5>\u001b[0;34m()\u001b[0m\n\u001b[1;32m      3\u001b[0m \u001b[0mg1_test\u001b[0m \u001b[0;34m=\u001b[0m \u001b[0mtokenizer\u001b[0m\u001b[0;34m.\u001b[0m\u001b[0mtexts_to_sequences\u001b[0m\u001b[0;34m(\u001b[0m\u001b[0mx1_test\u001b[0m\u001b[0;34m)\u001b[0m\u001b[0;34m\u001b[0m\u001b[0;34m\u001b[0m\u001b[0m\n\u001b[1;32m      4\u001b[0m \u001b[0mg1_padded\u001b[0m \u001b[0;34m=\u001b[0m \u001b[0msequence\u001b[0m\u001b[0;34m.\u001b[0m\u001b[0mpad_sequences\u001b[0m\u001b[0;34m(\u001b[0m\u001b[0mg1_test\u001b[0m\u001b[0;34m,\u001b[0m \u001b[0mpadding\u001b[0m\u001b[0;34m=\u001b[0m\u001b[0;34m'post'\u001b[0m\u001b[0;34m,\u001b[0m \u001b[0mmaxlen\u001b[0m\u001b[0;34m=\u001b[0m\u001b[0mmax_len\u001b[0m\u001b[0;34m)\u001b[0m\u001b[0;34m\u001b[0m\u001b[0;34m\u001b[0m\u001b[0m\n\u001b[0;32m----> 5\u001b[0;31m \u001b[0mloss\u001b[0m\u001b[0;34m,\u001b[0m \u001b[0maccuracy\u001b[0m\u001b[0;34m,\u001b[0m \u001b[0mf1\u001b[0m\u001b[0;34m,\u001b[0m \u001b[0mrecall\u001b[0m\u001b[0;34m,\u001b[0m \u001b[0mprecision\u001b[0m \u001b[0;34m=\u001b[0m \u001b[0mBi_LSTM_att\u001b[0m\u001b[0;34m.\u001b[0m\u001b[0mevaluate\u001b[0m\u001b[0;34m(\u001b[0m\u001b[0mg1_padded\u001b[0m\u001b[0;34m,\u001b[0m \u001b[0my1_test\u001b[0m\u001b[0;34m)\u001b[0m\u001b[0;34m\u001b[0m\u001b[0;34m\u001b[0m\u001b[0m\n\u001b[0m\u001b[1;32m      6\u001b[0m \u001b[0mprint\u001b[0m\u001b[0;34m(\u001b[0m\u001b[0;34m\"Group-1\"\u001b[0m\u001b[0;34m)\u001b[0m\u001b[0;34m\u001b[0m\u001b[0;34m\u001b[0m\u001b[0m\n\u001b[1;32m      7\u001b[0m \u001b[0mprint\u001b[0m\u001b[0;34m(\u001b[0m\u001b[0;34mf\"Loss: {loss}\"\u001b[0m\u001b[0;34m)\u001b[0m\u001b[0;34m\u001b[0m\u001b[0;34m\u001b[0m\u001b[0m\n",
            "\u001b[0;31mNameError\u001b[0m: name 'Bi_LSTM_att' is not defined"
          ]
        }
      ]
    },
    {
      "cell_type": "code",
      "source": [
        "# Group-2\n",
        "\n",
        "g2_test = tokenizer.texts_to_sequences(x2_test)\n",
        "g2_padded = sequence.pad_sequences(g2_test, padding='post', maxlen=max_len)\n",
        "loss, accuracy, f1, recall, precision = Bi_LSTM_att.evaluate(g2_padded, y2_test)\n",
        "print(\"Group-2\")\n",
        "print(f\"Loss: {loss}\")\n",
        "print(f\"Accuracy: {accuracy}\")\n",
        "print(f\"Recall: {recall}\")\n",
        "print(f\"Precision: {precision}\")\n",
        "print(f\"F1-score: {f1}\")\n",
        "Bi_LSTM_Att.append(accuracy)"
      ],
      "metadata": {
        "id": "S7DP1RHsY_3R"
      },
      "execution_count": null,
      "outputs": []
    },
    {
      "cell_type": "code",
      "source": [
        "# Group-3\n",
        "\n",
        "g3_test = tokenizer.texts_to_sequences(x3_test)\n",
        "g3_padded = sequence.pad_sequences(g3_test, padding='post', maxlen=max_len)\n",
        "loss, accuracy, f1, recall, precision = Bi_LSTM_att.evaluate(g3_padded, y3_test)\n",
        "print(\"Group-3\")\n",
        "print(f\"Loss: {loss}\")\n",
        "print(f\"Accuracy: {accuracy}\")\n",
        "print(f\"Recall: {recall}\")\n",
        "print(f\"Precision: {precision}\")\n",
        "print(f\"F1-score: {f1}\")\n",
        "Bi_LSTM_Att.append(accuracy)"
      ],
      "metadata": {
        "id": "SQ9LB4OmY_3R"
      },
      "execution_count": null,
      "outputs": []
    },
    {
      "cell_type": "code",
      "source": [
        "# Group-4\n",
        "\n",
        "g4_test = tokenizer.texts_to_sequences(x4_test)\n",
        "g4_padded = sequence.pad_sequences(g4_test, padding='post', maxlen=max_len)\n",
        "loss, accuracy, f1, recall, precision = Bi_LSTM_att.evaluate(g4_padded, y4_test)\n",
        "print(\"Group-4\")\n",
        "print(f\"Loss: {loss}\")\n",
        "print(f\"Accuracy: {accuracy}\")\n",
        "print(f\"Recall: {recall}\")\n",
        "print(f\"Precision: {precision}\")\n",
        "print(f\"F1-score: {f1}\")\n",
        "Bi_LSTM_Att.append(accuracy)"
      ],
      "metadata": {
        "id": "k9aNRYMGY_3R"
      },
      "execution_count": null,
      "outputs": []
    },
    {
      "cell_type": "code",
      "source": [
        "# Group-5\n",
        "\n",
        "g5_test = tokenizer.texts_to_sequences(x5_test)\n",
        "g5_padded = sequence.pad_sequences(g5_test, padding='post', maxlen=max_len)\n",
        "loss, accuracy, f1, recall, precision = Bi_LSTM_att.evaluate(g5_padded, y5_test)\n",
        "print(\"Group-5\")\n",
        "print(f\"Loss: {loss}\")\n",
        "print(f\"Accuracy: {accuracy}\")\n",
        "print(f\"Recall: {recall}\")\n",
        "print(f\"Precision: {precision}\")\n",
        "print(f\"F1-score: {f1}\")\n",
        "Bi_LSTM_Att.append(accuracy)"
      ],
      "metadata": {
        "id": "SqJJqDaRY_3R"
      },
      "execution_count": null,
      "outputs": []
    },
    {
      "cell_type": "markdown",
      "source": [
        "# Transformers"
      ],
      "metadata": {
        "id": "gp0qK1vcyOaG"
      }
    },
    {
      "cell_type": "code",
      "source": [
        "class TransformerBlock(layers.Layer):\n",
        "    def __init__(self, embed_dim, num_heads, ff_dim, rate=0.1):\n",
        "        super(TransformerBlock, self).__init__()\n",
        "        self.att = layers.MultiHeadAttention(num_heads=num_heads,\n",
        "                                             key_dim=embed_dim)\n",
        "        self.ffn = keras.Sequential([\n",
        "            layers.Dense(ff_dim, activation=\"relu\"),\n",
        "            layers.Dense(embed_dim),\n",
        "        ])\n",
        "        self.layernorm1 = layers.LayerNormalization(epsilon=1e-6)\n",
        "        self.layernorm2 = layers.LayerNormalization(epsilon=1e-6)\n",
        "        self.dropout1 = layers.Dropout(rate)\n",
        "        self.dropout2 = layers.Dropout(rate)\n",
        "\n",
        "    def call(self, inputs, training):\n",
        "        attn_output = self.att(inputs, inputs)  # self-attention layer\n",
        "        attn_output = self.dropout1(attn_output, training=training)\n",
        "        out1 = self.layernorm1(inputs + attn_output)  # layer norm\n",
        "        ffn_output = self.ffn(out1)  #feed-forward layer\n",
        "        ffn_output = self.dropout2(ffn_output, training=training)\n",
        "        return self.layernorm2(out1 + ffn_output)  # layer norm\n",
        "\n",
        "class TokenAndPositionEmbedding(layers.Layer):\n",
        "    def __init__(self, maxlen, vocab_size, embed_dim):\n",
        "        super(TokenAndPositionEmbedding, self).__init__()\n",
        "        self.token_emb = layers.Embedding(input_dim=vocab_size,\n",
        "                                          output_dim=embed_dim)\n",
        "        self.pos_emb = layers.Embedding(input_dim=maxlen, output_dim=embed_dim)\n",
        "\n",
        "    def call(self, x):\n",
        "        maxlen = tf.shape(x)[-1]\n",
        "        positions = tf.range(start=0, limit=maxlen, delta=1)\n",
        "        positions = self.pos_emb(positions)\n",
        "        x = self.token_emb(x)\n",
        "        return x + positions"
      ],
      "metadata": {
        "colab": {
          "base_uri": "https://localhost:8080/",
          "height": 235
        },
        "id": "A1Gp6mmxyQU6",
        "outputId": "e97b7336-6c6d-411b-e3e5-96a3ab376ce0"
      },
      "execution_count": null,
      "outputs": [
        {
          "output_type": "error",
          "ename": "NameError",
          "evalue": "ignored",
          "traceback": [
            "\u001b[0;31m---------------------------------------------------------------------------\u001b[0m",
            "\u001b[0;31mNameError\u001b[0m                                 Traceback (most recent call last)",
            "\u001b[0;32m<ipython-input-2-f4b0f73ac868>\u001b[0m in \u001b[0;36m<cell line: 1>\u001b[0;34m()\u001b[0m\n\u001b[0;32m----> 1\u001b[0;31m \u001b[0;32mclass\u001b[0m \u001b[0mTransformerBlock\u001b[0m\u001b[0;34m(\u001b[0m\u001b[0mlayers\u001b[0m\u001b[0;34m.\u001b[0m\u001b[0mLayer\u001b[0m\u001b[0;34m)\u001b[0m\u001b[0;34m:\u001b[0m\u001b[0;34m\u001b[0m\u001b[0;34m\u001b[0m\u001b[0m\n\u001b[0m\u001b[1;32m      2\u001b[0m     \u001b[0;32mdef\u001b[0m \u001b[0m__init__\u001b[0m\u001b[0;34m(\u001b[0m\u001b[0mself\u001b[0m\u001b[0;34m,\u001b[0m \u001b[0membed_dim\u001b[0m\u001b[0;34m,\u001b[0m \u001b[0mnum_heads\u001b[0m\u001b[0;34m,\u001b[0m \u001b[0mff_dim\u001b[0m\u001b[0;34m,\u001b[0m \u001b[0mrate\u001b[0m\u001b[0;34m=\u001b[0m\u001b[0;36m0.1\u001b[0m\u001b[0;34m)\u001b[0m\u001b[0;34m:\u001b[0m\u001b[0;34m\u001b[0m\u001b[0;34m\u001b[0m\u001b[0m\n\u001b[1;32m      3\u001b[0m         \u001b[0msuper\u001b[0m\u001b[0;34m(\u001b[0m\u001b[0mTransformerBlock\u001b[0m\u001b[0;34m,\u001b[0m \u001b[0mself\u001b[0m\u001b[0;34m)\u001b[0m\u001b[0;34m.\u001b[0m\u001b[0m__init__\u001b[0m\u001b[0;34m(\u001b[0m\u001b[0;34m)\u001b[0m\u001b[0;34m\u001b[0m\u001b[0;34m\u001b[0m\u001b[0m\n\u001b[1;32m      4\u001b[0m         self.att = layers.MultiHeadAttention(num_heads=num_heads,\n\u001b[1;32m      5\u001b[0m                                              key_dim=embed_dim)\n",
            "\u001b[0;31mNameError\u001b[0m: name 'layers' is not defined"
          ]
        }
      ]
    },
    {
      "cell_type": "code",
      "source": [
        "def create_model():\n",
        "  embed_dim = 128  # Embedding size for each token\n",
        "  num_heads = 8  # Number of attention heads\n",
        "  ff_dim = 8  # Hidden layer size in feed forward network inside transformer\n",
        "\n",
        "  ## Using Sequential API\n",
        "  model = keras.Sequential()\n",
        "  model.add(layers.Input(shape=(max_len, )))\n",
        "  model.add(TokenAndPositionEmbedding(max_len, 20000, embed_dim))\n",
        "  model.add(TransformerBlock(embed_dim, num_heads, ff_dim))\n",
        "  model.add(layers.GlobalAveragePooling1D())\n",
        "  model.add(layers.Dropout(0.3))\n",
        "  model.add(layers.Dense(ff_dim, activation='relu'))\n",
        "  model.add(layers.Dropout(0.3))\n",
        "  model.add(layers.Dense(1, activation='sigmoid'))\n",
        "\n",
        "  return model"
      ],
      "metadata": {
        "id": "0VZL74BPzP53"
      },
      "execution_count": null,
      "outputs": []
    },
    {
      "cell_type": "code",
      "source": [
        "trans = create_model()\n",
        "trans.summary()\n",
        "trans.compile(loss='binary_crossentropy',optimizer=Adamax(.01),metrics=['accuracy'])\n"
      ],
      "metadata": {
        "colab": {
          "base_uri": "https://localhost:8080/"
        },
        "id": "mwaNgE81zQl4",
        "outputId": "2cf4ba84-3a8b-495e-a1a0-6867e5214fe9"
      },
      "execution_count": null,
      "outputs": [
        {
          "output_type": "stream",
          "name": "stdout",
          "text": [
            "Model: \"sequential_17\"\n",
            "_________________________________________________________________\n",
            " Layer (type)                Output Shape              Param #   \n",
            "=================================================================\n",
            " token_and_position_embeddin  (None, 100, 128)         2572800   \n",
            " g_8 (TokenAndPositionEmbedd                                     \n",
            " ing)                                                            \n",
            "                                                                 \n",
            " transformer_block_8 (Transf  (None, 100, 128)         530184    \n",
            " ormerBlock)                                                     \n",
            "                                                                 \n",
            " global_average_pooling1d_8   (None, 128)              0         \n",
            " (GlobalAveragePooling1D)                                        \n",
            "                                                                 \n",
            " dropout_37 (Dropout)        (None, 128)               0         \n",
            "                                                                 \n",
            " dense_40 (Dense)            (None, 8)                 1032      \n",
            "                                                                 \n",
            " dropout_38 (Dropout)        (None, 8)                 0         \n",
            "                                                                 \n",
            " dense_41 (Dense)            (None, 1)                 9         \n",
            "                                                                 \n",
            "=================================================================\n",
            "Total params: 3,104,025\n",
            "Trainable params: 3,104,025\n",
            "Non-trainable params: 0\n",
            "_________________________________________________________________\n"
          ]
        }
      ]
    },
    {
      "cell_type": "code",
      "source": [
        "history=trans.fit(train_padded,y_train,batch_size=128,epochs=50,validation_data=(test_padded,y_test),callbacks=[EarlyStopping(monitor='val_loss',min_delta=0.00001,patience=5)],steps_per_epoch=2048)"
      ],
      "metadata": {
        "colab": {
          "base_uri": "https://localhost:8080/",
          "height": 182
        },
        "id": "Bjkx9iStzTJo",
        "outputId": "e661ef68-f4a4-483d-fa8a-fed0a5719c9e"
      },
      "execution_count": null,
      "outputs": [
        {
          "output_type": "error",
          "ename": "NameError",
          "evalue": "ignored",
          "traceback": [
            "\u001b[0;31m---------------------------------------------------------------------------\u001b[0m",
            "\u001b[0;31mNameError\u001b[0m                                 Traceback (most recent call last)",
            "\u001b[0;32m<ipython-input-1-21ba001ee4f7>\u001b[0m in \u001b[0;36m<cell line: 1>\u001b[0;34m()\u001b[0m\n\u001b[0;32m----> 1\u001b[0;31m \u001b[0mhistory\u001b[0m\u001b[0;34m=\u001b[0m\u001b[0mtrans\u001b[0m\u001b[0;34m.\u001b[0m\u001b[0mfit\u001b[0m\u001b[0;34m(\u001b[0m\u001b[0mtrain_padded\u001b[0m\u001b[0;34m,\u001b[0m\u001b[0my_train\u001b[0m\u001b[0;34m,\u001b[0m\u001b[0mbatch_size\u001b[0m\u001b[0;34m=\u001b[0m\u001b[0;36m128\u001b[0m\u001b[0;34m,\u001b[0m\u001b[0mepochs\u001b[0m\u001b[0;34m=\u001b[0m\u001b[0;36m50\u001b[0m\u001b[0;34m,\u001b[0m\u001b[0mvalidation_data\u001b[0m\u001b[0;34m=\u001b[0m\u001b[0;34m(\u001b[0m\u001b[0mtest_padded\u001b[0m\u001b[0;34m,\u001b[0m\u001b[0my_test\u001b[0m\u001b[0;34m)\u001b[0m\u001b[0;34m,\u001b[0m\u001b[0mcallbacks\u001b[0m\u001b[0;34m=\u001b[0m\u001b[0;34m[\u001b[0m\u001b[0mEarlyStopping\u001b[0m\u001b[0;34m(\u001b[0m\u001b[0mmonitor\u001b[0m\u001b[0;34m=\u001b[0m\u001b[0;34m'val_loss'\u001b[0m\u001b[0;34m,\u001b[0m\u001b[0mmin_delta\u001b[0m\u001b[0;34m=\u001b[0m\u001b[0;36m0.00001\u001b[0m\u001b[0;34m,\u001b[0m\u001b[0mpatience\u001b[0m\u001b[0;34m=\u001b[0m\u001b[0;36m5\u001b[0m\u001b[0;34m)\u001b[0m\u001b[0;34m]\u001b[0m\u001b[0;34m,\u001b[0m\u001b[0msteps_per_epoch\u001b[0m\u001b[0;34m=\u001b[0m\u001b[0;36m2048\u001b[0m\u001b[0;34m)\u001b[0m\u001b[0;34m\u001b[0m\u001b[0;34m\u001b[0m\u001b[0m\n\u001b[0m",
            "\u001b[0;31mNameError\u001b[0m: name 'trans' is not defined"
          ]
        }
      ]
    },
    {
      "cell_type": "markdown",
      "source": [
        "## Load the model and test for each group"
      ],
      "metadata": {
        "id": "WlwxtJRuzg_W"
      }
    },
    {
      "cell_type": "code",
      "source": [
        "transformer = []"
      ],
      "metadata": {
        "id": "NL-QTu-zA_1p"
      },
      "execution_count": null,
      "outputs": []
    },
    {
      "cell_type": "code",
      "source": [
        "transformer_old = []"
      ],
      "metadata": {
        "id": "Xx2oB3QvC0nN"
      },
      "execution_count": null,
      "outputs": []
    },
    {
      "cell_type": "code",
      "source": [
        "# Group-1\n",
        "\n",
        "g1_test = tokenizer.texts_to_sequences(x1_test)\n",
        "g1_padded = sequence.pad_sequences(g1_test, padding='post', maxlen=max_len)\n",
        "loss, accuracy = trans.evaluate(g1_padded, y1_test)\n",
        "print(\"Group-1\")\n",
        "print(f\"Loss(%): {loss*100}\")\n",
        "print(f\"Accuracy(%): {accuracy*100}\")\n",
        "transformer_old.append(accuracy)"
      ],
      "metadata": {
        "colab": {
          "base_uri": "https://localhost:8080/"
        },
        "outputId": "7b4f7677-1591-4e97-c3d4-d938f64ce6cd",
        "id": "Y9eTxLCczg_Y"
      },
      "execution_count": null,
      "outputs": [
        {
          "output_type": "stream",
          "name": "stdout",
          "text": [
            "625/625 [==============================] - 4s 6ms/step - loss: 0.4127 - accuracy: 0.8094\n",
            "Group-1\n",
            "Loss(%): 41.27286076545715\n",
            "Accuracy(%): 80.94000220298767\n"
          ]
        }
      ]
    },
    {
      "cell_type": "code",
      "source": [
        "# Group-2\n",
        "\n",
        "g2_test = tokenizer.texts_to_sequences(x2_test)\n",
        "g2_padded = sequence.pad_sequences(g2_test, padding='post', maxlen=max_len)\n",
        "loss, accuracy = trans.evaluate(g2_padded, y2_test)\n",
        "print(\"Group-2\")\n",
        "print(f\"Loss(%): {loss*100}\")\n",
        "print(f\"Accuracy(%): {accuracy*100}\")\n",
        "transformer_old.append(accuracy)"
      ],
      "metadata": {
        "colab": {
          "base_uri": "https://localhost:8080/"
        },
        "outputId": "4d35c4b7-f9af-4619-8b4d-d9d468540bc2",
        "id": "O1xgbe9azg_Z"
      },
      "execution_count": null,
      "outputs": [
        {
          "output_type": "stream",
          "name": "stdout",
          "text": [
            "625/625 [==============================] - 4s 6ms/step - loss: 0.3366 - accuracy: 0.8482\n",
            "Group-2\n",
            "Loss(%): 33.65573585033417\n",
            "Accuracy(%): 84.82000231742859\n"
          ]
        }
      ]
    },
    {
      "cell_type": "code",
      "source": [
        "# Group-3\n",
        "\n",
        "g3_test = tokenizer.texts_to_sequences(x3_test)\n",
        "g3_padded = sequence.pad_sequences(g3_test, padding='post', maxlen=max_len)\n",
        "loss, accuracy = trans.evaluate(g3_padded, y3_test)\n",
        "print(\"Group-3\")\n",
        "print(f\"Loss(%): {loss*100}\")\n",
        "print(f\"Accuracy(%): {accuracy*100}\")\n",
        "transformer_old.append(accuracy)"
      ],
      "metadata": {
        "colab": {
          "base_uri": "https://localhost:8080/"
        },
        "outputId": "fa54d87a-4372-4594-cabe-a9707a42ec78",
        "id": "h_qRreqpzg_a"
      },
      "execution_count": null,
      "outputs": [
        {
          "output_type": "stream",
          "name": "stdout",
          "text": [
            "625/625 [==============================] - 4s 6ms/step - loss: 0.2534 - accuracy: 0.8957\n",
            "Group-3\n",
            "Loss(%): 25.343382358551025\n",
            "Accuracy(%): 89.56500291824341\n"
          ]
        }
      ]
    },
    {
      "cell_type": "code",
      "source": [
        "# Group-4\n",
        "\n",
        "g4_test = tokenizer.texts_to_sequences(x4_test)\n",
        "g4_padded = sequence.pad_sequences(g4_test, padding='post', maxlen=max_len)\n",
        "loss, accuracy = trans.evaluate(g4_padded, y4_test)\n",
        "print(\"Group-4\")\n",
        "print(f\"Loss(%): {loss*100}\")\n",
        "print(f\"Accuracy(%): {accuracy*100}\")\n",
        "transformer_old.append(accuracy)"
      ],
      "metadata": {
        "colab": {
          "base_uri": "https://localhost:8080/"
        },
        "outputId": "9230abe3-08ba-455a-8806-559872f764cf",
        "id": "xFj7ImEdzg_a"
      },
      "execution_count": null,
      "outputs": [
        {
          "output_type": "stream",
          "name": "stdout",
          "text": [
            "625/625 [==============================] - 4s 6ms/step - loss: 0.2633 - accuracy: 0.8911\n",
            "Group-4\n",
            "Loss(%): 26.3296902179718\n",
            "Accuracy(%): 89.11499977111816\n"
          ]
        }
      ]
    },
    {
      "cell_type": "code",
      "source": [
        "# Group-5\n",
        "\n",
        "g5_test = tokenizer.texts_to_sequences(x5_test)\n",
        "g5_padded = sequence.pad_sequences(g5_test, padding='post', maxlen=max_len)\n",
        "loss, accuracy = trans.evaluate(g5_padded, y5_test)\n",
        "print(\"Group-5\")\n",
        "print(f\"Loss(%): {loss*100}\")\n",
        "print(f\"Accuracy(%): {accuracy*100}\")\n",
        "transformer_old.append(accuracy)"
      ],
      "metadata": {
        "colab": {
          "base_uri": "https://localhost:8080/"
        },
        "outputId": "edb74287-2bb8-4494-f9b3-83b3ab20500d",
        "id": "HxwHsXwmzg_b"
      },
      "execution_count": null,
      "outputs": [
        {
          "output_type": "stream",
          "name": "stdout",
          "text": [
            "625/625 [==============================] - 4s 6ms/step - loss: 0.2732 - accuracy: 0.8874\n",
            "Group-5\n",
            "Loss(%): 27.32294797897339\n",
            "Accuracy(%): 88.74499797821045\n"
          ]
        }
      ]
    },
    {
      "cell_type": "markdown",
      "source": [
        "# Graphs"
      ],
      "metadata": {
        "id": "OHg5MEXr5lmZ"
      }
    },
    {
      "cell_type": "code",
      "source": [
        "LSTM_original = [0.8732087016105652,\n",
        " 0.889759361743927,\n",
        " 0.9111257195472717,\n",
        " 0.9032427668571472,\n",
        " 0.8985908627510071]"
      ],
      "metadata": {
        "id": "GnM5BntD5lCG"
      },
      "execution_count": null,
      "outputs": []
    },
    {
      "cell_type": "code",
      "source": [
        "LSTM_Att = [0.8747110962867737,\n",
        " 0.9009777903556824,\n",
        " 0.9333111047744751,\n",
        " 0.9354000091552734,\n",
        " 0.9373111128807068]"
      ],
      "metadata": {
        "id": "KK05MgHS5o-T"
      },
      "execution_count": null,
      "outputs": []
    },
    {
      "cell_type": "code",
      "source": [
        "bi_lstm = [0.8763548731803894,\n",
        " 0.9010528922080994,\n",
        " 0.9336283206939697,\n",
        " 0.9349337816238403,\n",
        " 0.9360813498497009]"
      ],
      "metadata": {
        "id": "ASdKg0W6MjhM"
      },
      "execution_count": null,
      "outputs": []
    },
    {
      "cell_type": "code",
      "source": [
        "Bi_LSTM_Att = [0.8769333362579346,\n",
        " 0.9040666818618774,\n",
        " 0.9352889060974121,\n",
        " 0.9390666484832764,\n",
        " 0.9387111067771912]"
      ],
      "metadata": {
        "id": "nvDg5l7AwxAH"
      },
      "execution_count": null,
      "outputs": []
    },
    {
      "cell_type": "code",
      "source": [
        "transformer = [0.824999, 0.8241, 0.836799, 0.829649, 0.8226]"
      ],
      "metadata": {
        "id": "pAUk51XTz9B2"
      },
      "execution_count": null,
      "outputs": []
    },
    {
      "cell_type": "code",
      "source": [
        "import matplotlib.pyplot as plt\n",
        "plt.rc('axes', titlesize=18, labelsize=18)\n",
        "plt.rc('legend', fontsize=8)\n",
        "plt.rc('xtick', labelsize=10)    # fontsize of the tick labels\n",
        "plt.rc('ytick', labelsize=10)    # fontsize of the tick labels\n",
        "plt.plot([1, 2, 3, 4, 5], Bi_LSTM_Att, label = 'Bi-LSTM - With Attention')\n",
        "plt.plot([1, 2, 3, 4, 5], LSTM_Att, label = 'LSTM - With Attention')\n",
        "plt.plot([1, 2, 3, 4, 5], bi_lstm, label = 'Bi-LSTM')\n",
        "plt.plot([1, 2, 3, 4, 5], LSTM_original[0:5], label = 'LSTM')\n",
        "plt.plot([1, 2, 3, 4, 5], transformer, label = 'Transformer')\n",
        "plt.ylabel(\"Accuracy\")\n",
        "plt.xlabel(\"Sequence Length Groups\")\n",
        "plt.xticks(np.arange(0, 5.1, 1.0))\n",
        "plt.xlim(1,5.1)\n",
        "plt.ylim(0.8, 1)\n",
        "plt.legend()"
      ],
      "metadata": {
        "colab": {
          "base_uri": "https://localhost:8080/",
          "height": 482
        },
        "id": "v8hdIH3f5qXx",
        "outputId": "375c4f00-76f6-4ade-8f01-ad38936291de"
      },
      "execution_count": null,
      "outputs": [
        {
          "output_type": "execute_result",
          "data": {
            "text/plain": [
              "<matplotlib.legend.Legend at 0x7f4f3bc9b400>"
            ]
          },
          "metadata": {},
          "execution_count": 10
        },
        {
          "output_type": "display_data",
          "data": {
            "text/plain": [
              "<Figure size 640x480 with 1 Axes>"
            ],
            "image/png": "[encoded data removed]"
          },
          "metadata": {}
        }
      ]
    },
    {
      "cell_type": "markdown",
      "source": [
        "# Group - 1 Calculations"
      ],
      "metadata": {
        "id": "c7xIuwt3oOhD"
      }
    },
    {
      "cell_type": "code",
      "source": [
        "import tensorflow.keras as k\n",
        "from tensorflow.keras import backend as K"
      ],
      "metadata": {
        "id": "yXoimhJP7k8Q"
      },
      "execution_count": null,
      "outputs": []
    },
    {
      "cell_type": "code",
      "source": [
        "\n",
        "import tensorflow.keras as k\n",
        "from tensorflow.keras import backend as K\n",
        "\"\"\"\n",
        " It adds f1 score as a metric to the compiled model and compiles the model with the input weight\n",
        "\"\"\"\n",
        "\n",
        "def get_f1(y_true, y_pred): #taken from old keras source code\n",
        "    true_positives = K.sum(K.round(K.clip(y_true * y_pred, 0, 1)))\n",
        "    possible_positives = K.sum(K.round(K.clip(y_true, 0, 1)))\n",
        "    predicted_positives = K.sum(K.round(K.clip(y_pred, 0, 1)))\n",
        "    precision = true_positives / (predicted_positives + K.epsilon())\n",
        "    recall = true_positives / (possible_positives + K.epsilon())\n",
        "    f1_val = 2*(precision*recall)/(precision+recall+K.epsilon())\n",
        "    return f1_val\n",
        "\n",
        "def get_recall(y_true, y_pred): #taken from old keras source code\n",
        "    true_positives = K.sum(K.round(K.clip(y_true * y_pred, 0, 1)))\n",
        "    possible_positives = K.sum(K.round(K.clip(y_true, 0, 1)))\n",
        "    predicted_positives = K.sum(K.round(K.clip(y_pred, 0, 1)))\n",
        "    precision = true_positives / (predicted_positives + K.epsilon())\n",
        "    recall = true_positives / (possible_positives + K.epsilon())\n",
        "    f1_val = 2*(precision*recall)/(precision+recall+K.epsilon())\n",
        "    return recall\n",
        "\n",
        "def get_precision(y_true, y_pred): #taken from old keras source code\n",
        "    true_positives = K.sum(K.round(K.clip(y_true * y_pred, 0, 1)))\n",
        "    possible_positives = K.sum(K.round(K.clip(y_true, 0, 1)))\n",
        "    predicted_positives = K.sum(K.round(K.clip(y_pred, 0, 1)))\n",
        "    precision = true_positives / (predicted_positives + K.epsilon())\n",
        "    recall = true_positives / (possible_positives + K.epsilon())\n",
        "    f1_val = 2*(precision*recall)/(precision+recall+K.epsilon())\n",
        "    return precision"
      ],
      "metadata": {
        "id": "dpR_mAuV4HaI"
      },
      "execution_count": null,
      "outputs": []
    },
    {
      "cell_type": "code",
      "source": [],
      "metadata": {
        "id": "k4hNLNoL9AlP"
      },
      "execution_count": null,
      "outputs": []
    }
  ],
  "metadata": {
    "colab": {
      "provenance": [],
      "machine_shape": "hm",
      "collapsed_sections": [
        "Y2-I7PacDTzN",
        "222dug5Zl20K",
        "xT1-NL3LOxXs",
        "zZhUlMHZxiAd",
        "aiQNdXcs-0YG",
        "TplRzOGDEAri",
        "gzWqOfAfbM_m",
        "wp_F6NW9eObz",
        "tlTYv43ZwM82",
        "TeMa5FA3wUv_",
        "jfnHyOnCg3ld",
        "JjaGXgMRKjm9",
        "miBjM9hwTwcE",
        "BcS7YMhHfAQX",
        "F5I_yj5thAsX",
        "qZ2C9Ep8g_gk"
      ]
    },
    "kernelspec": {
      "display_name": "Python 3",
      "name": "python3"
    },
    "language_info": {
      "name": "python"
    },
    "accelerator": "GPU",
    "gpuClass": "standard"
  },
  "nbformat": 4,
  "nbformat_minor": 0
}